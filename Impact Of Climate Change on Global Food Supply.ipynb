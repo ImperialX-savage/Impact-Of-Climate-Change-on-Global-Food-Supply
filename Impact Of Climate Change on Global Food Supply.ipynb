{
  "cells": [
    {
      "cell_type": "markdown",
      "metadata": {
        "id": "qncIQjWiPbjF"
      },
      "source": [
        "# Section 1: Gathering & Cleaning Data\n",
        "\n",
        "### Food Production Data:\n",
        "\n",
        "\n",
        " \n",
        "After importing the required libraries, crop yield of 10 most consumed crops around the world was downloaded from FAO webiste.The dataset has the following attributes:- country, item, year starting from 1961 to 2016 and yield value. "
      ]
    },
    {
      "cell_type": "code",
      "execution_count": 1,
      "metadata": {
        "id": "ac0nVGgQPbjG"
      },
      "outputs": [],
      "source": [
        "import numpy as np \n",
        "import pandas as pd "
      ]
    },
    {
      "cell_type": "code",
      "execution_count": 2,
      "metadata": {
        "colab": {
          "base_uri": "https://localhost:8080/"
        },
        "id": "5jiYE70ZPbjG",
        "outputId": "51553e6c-d71b-4c8e-9b82-9d63a51f7dc0"
      },
      "outputs": [
        {
          "data": {
            "text/plain": [
              "(56717, 12)"
            ]
          },
          "execution_count": 2,
          "metadata": {},
          "output_type": "execute_result"
        }
      ],
      "source": [
        "df_yield = pd.read_csv('yield.csv')\n",
        "df_yield.shape"
      ]
    },
    {
      "cell_type": "code",
      "execution_count": 3,
      "metadata": {
        "colab": {
          "base_uri": "https://localhost:8080/"
        },
        "id": "ydc9WQO9PbjH",
        "outputId": "358eeeff-c48a-4ec0-91a7-589ae0fce2c3",
        "scrolled": true
      },
      "outputs": [
        {
          "data": {
            "text/html": [
              "<div>\n",
              "<style scoped>\n",
              "    .dataframe tbody tr th:only-of-type {\n",
              "        vertical-align: middle;\n",
              "    }\n",
              "\n",
              "    .dataframe tbody tr th {\n",
              "        vertical-align: top;\n",
              "    }\n",
              "\n",
              "    .dataframe thead th {\n",
              "        text-align: right;\n",
              "    }\n",
              "</style>\n",
              "<table border=\"1\" class=\"dataframe\">\n",
              "  <thead>\n",
              "    <tr style=\"text-align: right;\">\n",
              "      <th></th>\n",
              "      <th>Domain Code</th>\n",
              "      <th>Domain</th>\n",
              "      <th>Area Code</th>\n",
              "      <th>Area</th>\n",
              "      <th>Element Code</th>\n",
              "      <th>Element</th>\n",
              "      <th>Item Code</th>\n",
              "      <th>Item</th>\n",
              "      <th>Year Code</th>\n",
              "      <th>Year</th>\n",
              "      <th>Unit</th>\n",
              "      <th>Value</th>\n",
              "    </tr>\n",
              "  </thead>\n",
              "  <tbody>\n",
              "    <tr>\n",
              "      <th>0</th>\n",
              "      <td>QC</td>\n",
              "      <td>Crops</td>\n",
              "      <td>2</td>\n",
              "      <td>Afghanistan</td>\n",
              "      <td>5419</td>\n",
              "      <td>Yield</td>\n",
              "      <td>56</td>\n",
              "      <td>Maize</td>\n",
              "      <td>1961</td>\n",
              "      <td>1961</td>\n",
              "      <td>hg/ha</td>\n",
              "      <td>14000</td>\n",
              "    </tr>\n",
              "    <tr>\n",
              "      <th>1</th>\n",
              "      <td>QC</td>\n",
              "      <td>Crops</td>\n",
              "      <td>2</td>\n",
              "      <td>Afghanistan</td>\n",
              "      <td>5419</td>\n",
              "      <td>Yield</td>\n",
              "      <td>56</td>\n",
              "      <td>Maize</td>\n",
              "      <td>1962</td>\n",
              "      <td>1962</td>\n",
              "      <td>hg/ha</td>\n",
              "      <td>14000</td>\n",
              "    </tr>\n",
              "    <tr>\n",
              "      <th>2</th>\n",
              "      <td>QC</td>\n",
              "      <td>Crops</td>\n",
              "      <td>2</td>\n",
              "      <td>Afghanistan</td>\n",
              "      <td>5419</td>\n",
              "      <td>Yield</td>\n",
              "      <td>56</td>\n",
              "      <td>Maize</td>\n",
              "      <td>1963</td>\n",
              "      <td>1963</td>\n",
              "      <td>hg/ha</td>\n",
              "      <td>14260</td>\n",
              "    </tr>\n",
              "    <tr>\n",
              "      <th>3</th>\n",
              "      <td>QC</td>\n",
              "      <td>Crops</td>\n",
              "      <td>2</td>\n",
              "      <td>Afghanistan</td>\n",
              "      <td>5419</td>\n",
              "      <td>Yield</td>\n",
              "      <td>56</td>\n",
              "      <td>Maize</td>\n",
              "      <td>1964</td>\n",
              "      <td>1964</td>\n",
              "      <td>hg/ha</td>\n",
              "      <td>14257</td>\n",
              "    </tr>\n",
              "    <tr>\n",
              "      <th>4</th>\n",
              "      <td>QC</td>\n",
              "      <td>Crops</td>\n",
              "      <td>2</td>\n",
              "      <td>Afghanistan</td>\n",
              "      <td>5419</td>\n",
              "      <td>Yield</td>\n",
              "      <td>56</td>\n",
              "      <td>Maize</td>\n",
              "      <td>1965</td>\n",
              "      <td>1965</td>\n",
              "      <td>hg/ha</td>\n",
              "      <td>14400</td>\n",
              "    </tr>\n",
              "  </tbody>\n",
              "</table>\n",
              "</div>"
            ],
            "text/plain": [
              "  Domain Code Domain  Area Code         Area  Element Code Element  Item Code  \\\n",
              "0          QC  Crops          2  Afghanistan          5419   Yield         56   \n",
              "1          QC  Crops          2  Afghanistan          5419   Yield         56   \n",
              "2          QC  Crops          2  Afghanistan          5419   Yield         56   \n",
              "3          QC  Crops          2  Afghanistan          5419   Yield         56   \n",
              "4          QC  Crops          2  Afghanistan          5419   Yield         56   \n",
              "\n",
              "    Item  Year Code  Year   Unit  Value  \n",
              "0  Maize       1961  1961  hg/ha  14000  \n",
              "1  Maize       1962  1962  hg/ha  14000  \n",
              "2  Maize       1963  1963  hg/ha  14260  \n",
              "3  Maize       1964  1964  hg/ha  14257  \n",
              "4  Maize       1965  1965  hg/ha  14400  "
            ]
          },
          "execution_count": 3,
          "metadata": {},
          "output_type": "execute_result"
        }
      ],
      "source": [
        "df_yield.head()"
      ]
    },
    {
      "cell_type": "code",
      "execution_count": 4,
      "metadata": {
        "colab": {
          "base_uri": "https://localhost:8080/"
        },
        "id": "OgfNUNzQPbjI",
        "outputId": "ec8f29f8-0760-4c58-c42a-15682b846564",
        "scrolled": true
      },
      "outputs": [
        {
          "data": {
            "text/html": [
              "<div>\n",
              "<style scoped>\n",
              "    .dataframe tbody tr th:only-of-type {\n",
              "        vertical-align: middle;\n",
              "    }\n",
              "\n",
              "    .dataframe tbody tr th {\n",
              "        vertical-align: top;\n",
              "    }\n",
              "\n",
              "    .dataframe thead th {\n",
              "        text-align: right;\n",
              "    }\n",
              "</style>\n",
              "<table border=\"1\" class=\"dataframe\">\n",
              "  <thead>\n",
              "    <tr style=\"text-align: right;\">\n",
              "      <th></th>\n",
              "      <th>Domain Code</th>\n",
              "      <th>Domain</th>\n",
              "      <th>Area Code</th>\n",
              "      <th>Area</th>\n",
              "      <th>Element Code</th>\n",
              "      <th>Element</th>\n",
              "      <th>Item Code</th>\n",
              "      <th>Item</th>\n",
              "      <th>Year Code</th>\n",
              "      <th>Year</th>\n",
              "      <th>Unit</th>\n",
              "      <th>Value</th>\n",
              "    </tr>\n",
              "  </thead>\n",
              "  <tbody>\n",
              "    <tr>\n",
              "      <th>56712</th>\n",
              "      <td>QC</td>\n",
              "      <td>Crops</td>\n",
              "      <td>181</td>\n",
              "      <td>Zimbabwe</td>\n",
              "      <td>5419</td>\n",
              "      <td>Yield</td>\n",
              "      <td>15</td>\n",
              "      <td>Wheat</td>\n",
              "      <td>2012</td>\n",
              "      <td>2012</td>\n",
              "      <td>hg/ha</td>\n",
              "      <td>24420</td>\n",
              "    </tr>\n",
              "    <tr>\n",
              "      <th>56713</th>\n",
              "      <td>QC</td>\n",
              "      <td>Crops</td>\n",
              "      <td>181</td>\n",
              "      <td>Zimbabwe</td>\n",
              "      <td>5419</td>\n",
              "      <td>Yield</td>\n",
              "      <td>15</td>\n",
              "      <td>Wheat</td>\n",
              "      <td>2013</td>\n",
              "      <td>2013</td>\n",
              "      <td>hg/ha</td>\n",
              "      <td>22888</td>\n",
              "    </tr>\n",
              "    <tr>\n",
              "      <th>56714</th>\n",
              "      <td>QC</td>\n",
              "      <td>Crops</td>\n",
              "      <td>181</td>\n",
              "      <td>Zimbabwe</td>\n",
              "      <td>5419</td>\n",
              "      <td>Yield</td>\n",
              "      <td>15</td>\n",
              "      <td>Wheat</td>\n",
              "      <td>2014</td>\n",
              "      <td>2014</td>\n",
              "      <td>hg/ha</td>\n",
              "      <td>21357</td>\n",
              "    </tr>\n",
              "    <tr>\n",
              "      <th>56715</th>\n",
              "      <td>QC</td>\n",
              "      <td>Crops</td>\n",
              "      <td>181</td>\n",
              "      <td>Zimbabwe</td>\n",
              "      <td>5419</td>\n",
              "      <td>Yield</td>\n",
              "      <td>15</td>\n",
              "      <td>Wheat</td>\n",
              "      <td>2015</td>\n",
              "      <td>2015</td>\n",
              "      <td>hg/ha</td>\n",
              "      <td>19826</td>\n",
              "    </tr>\n",
              "    <tr>\n",
              "      <th>56716</th>\n",
              "      <td>QC</td>\n",
              "      <td>Crops</td>\n",
              "      <td>181</td>\n",
              "      <td>Zimbabwe</td>\n",
              "      <td>5419</td>\n",
              "      <td>Yield</td>\n",
              "      <td>15</td>\n",
              "      <td>Wheat</td>\n",
              "      <td>2016</td>\n",
              "      <td>2016</td>\n",
              "      <td>hg/ha</td>\n",
              "      <td>18294</td>\n",
              "    </tr>\n",
              "  </tbody>\n",
              "</table>\n",
              "</div>"
            ],
            "text/plain": [
              "      Domain Code Domain  Area Code      Area  Element Code Element  \\\n",
              "56712          QC  Crops        181  Zimbabwe          5419   Yield   \n",
              "56713          QC  Crops        181  Zimbabwe          5419   Yield   \n",
              "56714          QC  Crops        181  Zimbabwe          5419   Yield   \n",
              "56715          QC  Crops        181  Zimbabwe          5419   Yield   \n",
              "56716          QC  Crops        181  Zimbabwe          5419   Yield   \n",
              "\n",
              "       Item Code   Item  Year Code  Year   Unit  Value  \n",
              "56712         15  Wheat       2012  2012  hg/ha  24420  \n",
              "56713         15  Wheat       2013  2013  hg/ha  22888  \n",
              "56714         15  Wheat       2014  2014  hg/ha  21357  \n",
              "56715         15  Wheat       2015  2015  hg/ha  19826  \n",
              "56716         15  Wheat       2016  2016  hg/ha  18294  "
            ]
          },
          "execution_count": 4,
          "metadata": {},
          "output_type": "execute_result"
        }
      ],
      "source": [
        "df_yield.tail()"
      ]
    },
    {
      "cell_type": "markdown",
      "metadata": {
        "id": "51OsB2R0PbjI"
      },
      "source": [
        "Renaming **Value** to **hg/ha_yield** to make it easier to recognise that this attribute represents our crops yields production value. Also, removing unnecessary coloumns like Area Code, Domain, Item Code, etc."
      ]
    },
    {
      "cell_type": "code",
      "execution_count": 5,
      "metadata": {
        "colab": {
          "base_uri": "https://localhost:8080/"
        },
        "id": "FCAxO5c8PbjJ",
        "outputId": "866d9c45-5bbc-4ad4-a7db-b63c3ff344c9",
        "scrolled": true
      },
      "outputs": [
        {
          "data": {
            "text/html": [
              "<div>\n",
              "<style scoped>\n",
              "    .dataframe tbody tr th:only-of-type {\n",
              "        vertical-align: middle;\n",
              "    }\n",
              "\n",
              "    .dataframe tbody tr th {\n",
              "        vertical-align: top;\n",
              "    }\n",
              "\n",
              "    .dataframe thead th {\n",
              "        text-align: right;\n",
              "    }\n",
              "</style>\n",
              "<table border=\"1\" class=\"dataframe\">\n",
              "  <thead>\n",
              "    <tr style=\"text-align: right;\">\n",
              "      <th></th>\n",
              "      <th>Domain Code</th>\n",
              "      <th>Domain</th>\n",
              "      <th>Area Code</th>\n",
              "      <th>Area</th>\n",
              "      <th>Element Code</th>\n",
              "      <th>Element</th>\n",
              "      <th>Item Code</th>\n",
              "      <th>Item</th>\n",
              "      <th>Year Code</th>\n",
              "      <th>Year</th>\n",
              "      <th>Unit</th>\n",
              "      <th>hg/ha_yield</th>\n",
              "    </tr>\n",
              "  </thead>\n",
              "  <tbody>\n",
              "    <tr>\n",
              "      <th>0</th>\n",
              "      <td>QC</td>\n",
              "      <td>Crops</td>\n",
              "      <td>2</td>\n",
              "      <td>Afghanistan</td>\n",
              "      <td>5419</td>\n",
              "      <td>Yield</td>\n",
              "      <td>56</td>\n",
              "      <td>Maize</td>\n",
              "      <td>1961</td>\n",
              "      <td>1961</td>\n",
              "      <td>hg/ha</td>\n",
              "      <td>14000</td>\n",
              "    </tr>\n",
              "    <tr>\n",
              "      <th>1</th>\n",
              "      <td>QC</td>\n",
              "      <td>Crops</td>\n",
              "      <td>2</td>\n",
              "      <td>Afghanistan</td>\n",
              "      <td>5419</td>\n",
              "      <td>Yield</td>\n",
              "      <td>56</td>\n",
              "      <td>Maize</td>\n",
              "      <td>1962</td>\n",
              "      <td>1962</td>\n",
              "      <td>hg/ha</td>\n",
              "      <td>14000</td>\n",
              "    </tr>\n",
              "    <tr>\n",
              "      <th>2</th>\n",
              "      <td>QC</td>\n",
              "      <td>Crops</td>\n",
              "      <td>2</td>\n",
              "      <td>Afghanistan</td>\n",
              "      <td>5419</td>\n",
              "      <td>Yield</td>\n",
              "      <td>56</td>\n",
              "      <td>Maize</td>\n",
              "      <td>1963</td>\n",
              "      <td>1963</td>\n",
              "      <td>hg/ha</td>\n",
              "      <td>14260</td>\n",
              "    </tr>\n",
              "    <tr>\n",
              "      <th>3</th>\n",
              "      <td>QC</td>\n",
              "      <td>Crops</td>\n",
              "      <td>2</td>\n",
              "      <td>Afghanistan</td>\n",
              "      <td>5419</td>\n",
              "      <td>Yield</td>\n",
              "      <td>56</td>\n",
              "      <td>Maize</td>\n",
              "      <td>1964</td>\n",
              "      <td>1964</td>\n",
              "      <td>hg/ha</td>\n",
              "      <td>14257</td>\n",
              "    </tr>\n",
              "    <tr>\n",
              "      <th>4</th>\n",
              "      <td>QC</td>\n",
              "      <td>Crops</td>\n",
              "      <td>2</td>\n",
              "      <td>Afghanistan</td>\n",
              "      <td>5419</td>\n",
              "      <td>Yield</td>\n",
              "      <td>56</td>\n",
              "      <td>Maize</td>\n",
              "      <td>1965</td>\n",
              "      <td>1965</td>\n",
              "      <td>hg/ha</td>\n",
              "      <td>14400</td>\n",
              "    </tr>\n",
              "  </tbody>\n",
              "</table>\n",
              "</div>"
            ],
            "text/plain": [
              "  Domain Code Domain  Area Code         Area  Element Code Element  Item Code  \\\n",
              "0          QC  Crops          2  Afghanistan          5419   Yield         56   \n",
              "1          QC  Crops          2  Afghanistan          5419   Yield         56   \n",
              "2          QC  Crops          2  Afghanistan          5419   Yield         56   \n",
              "3          QC  Crops          2  Afghanistan          5419   Yield         56   \n",
              "4          QC  Crops          2  Afghanistan          5419   Yield         56   \n",
              "\n",
              "    Item  Year Code  Year   Unit  hg/ha_yield  \n",
              "0  Maize       1961  1961  hg/ha        14000  \n",
              "1  Maize       1962  1962  hg/ha        14000  \n",
              "2  Maize       1963  1963  hg/ha        14260  \n",
              "3  Maize       1964  1964  hg/ha        14257  \n",
              "4  Maize       1965  1965  hg/ha        14400  "
            ]
          },
          "execution_count": 5,
          "metadata": {},
          "output_type": "execute_result"
        }
      ],
      "source": [
        "df_yield = df_yield.rename(index=str, columns={\"Value\": \"hg/ha_yield\"})\n",
        "df_yield.head()"
      ]
    },
    {
      "cell_type": "code",
      "execution_count": 6,
      "metadata": {
        "colab": {
          "base_uri": "https://localhost:8080/"
        },
        "id": "e9YDhb0KPbjJ",
        "outputId": "639986ea-1fe7-4d15-a36d-e9b956085f3a",
        "scrolled": false
      },
      "outputs": [
        {
          "data": {
            "text/html": [
              "<div>\n",
              "<style scoped>\n",
              "    .dataframe tbody tr th:only-of-type {\n",
              "        vertical-align: middle;\n",
              "    }\n",
              "\n",
              "    .dataframe tbody tr th {\n",
              "        vertical-align: top;\n",
              "    }\n",
              "\n",
              "    .dataframe thead th {\n",
              "        text-align: right;\n",
              "    }\n",
              "</style>\n",
              "<table border=\"1\" class=\"dataframe\">\n",
              "  <thead>\n",
              "    <tr style=\"text-align: right;\">\n",
              "      <th></th>\n",
              "      <th>Area</th>\n",
              "      <th>Item</th>\n",
              "      <th>Year</th>\n",
              "      <th>hg/ha_yield</th>\n",
              "    </tr>\n",
              "  </thead>\n",
              "  <tbody>\n",
              "    <tr>\n",
              "      <th>0</th>\n",
              "      <td>Afghanistan</td>\n",
              "      <td>Maize</td>\n",
              "      <td>1961</td>\n",
              "      <td>14000</td>\n",
              "    </tr>\n",
              "    <tr>\n",
              "      <th>1</th>\n",
              "      <td>Afghanistan</td>\n",
              "      <td>Maize</td>\n",
              "      <td>1962</td>\n",
              "      <td>14000</td>\n",
              "    </tr>\n",
              "    <tr>\n",
              "      <th>2</th>\n",
              "      <td>Afghanistan</td>\n",
              "      <td>Maize</td>\n",
              "      <td>1963</td>\n",
              "      <td>14260</td>\n",
              "    </tr>\n",
              "    <tr>\n",
              "      <th>3</th>\n",
              "      <td>Afghanistan</td>\n",
              "      <td>Maize</td>\n",
              "      <td>1964</td>\n",
              "      <td>14257</td>\n",
              "    </tr>\n",
              "    <tr>\n",
              "      <th>4</th>\n",
              "      <td>Afghanistan</td>\n",
              "      <td>Maize</td>\n",
              "      <td>1965</td>\n",
              "      <td>14400</td>\n",
              "    </tr>\n",
              "  </tbody>\n",
              "</table>\n",
              "</div>"
            ],
            "text/plain": [
              "          Area   Item  Year  hg/ha_yield\n",
              "0  Afghanistan  Maize  1961        14000\n",
              "1  Afghanistan  Maize  1962        14000\n",
              "2  Afghanistan  Maize  1963        14260\n",
              "3  Afghanistan  Maize  1964        14257\n",
              "4  Afghanistan  Maize  1965        14400"
            ]
          },
          "execution_count": 6,
          "metadata": {},
          "output_type": "execute_result"
        }
      ],
      "source": [
        "df_yield = df_yield.drop(['Year Code','Element Code','Element','Year Code','Area Code','Domain Code','Domain','Unit','Item Code'], axis=1)\n",
        "df_yield.head()"
      ]
    },
    {
      "cell_type": "code",
      "execution_count": 7,
      "metadata": {
        "colab": {
          "base_uri": "https://localhost:8080/"
        },
        "id": "oE4ygOdyPbjK",
        "outputId": "7ba703d1-fdfd-4fe3-fd2b-b5dfe3e0a86e",
        "scrolled": true
      },
      "outputs": [
        {
          "data": {
            "text/html": [
              "<div>\n",
              "<style scoped>\n",
              "    .dataframe tbody tr th:only-of-type {\n",
              "        vertical-align: middle;\n",
              "    }\n",
              "\n",
              "    .dataframe tbody tr th {\n",
              "        vertical-align: top;\n",
              "    }\n",
              "\n",
              "    .dataframe thead th {\n",
              "        text-align: right;\n",
              "    }\n",
              "</style>\n",
              "<table border=\"1\" class=\"dataframe\">\n",
              "  <thead>\n",
              "    <tr style=\"text-align: right;\">\n",
              "      <th></th>\n",
              "      <th>Year</th>\n",
              "      <th>hg/ha_yield</th>\n",
              "    </tr>\n",
              "  </thead>\n",
              "  <tbody>\n",
              "    <tr>\n",
              "      <th>count</th>\n",
              "      <td>56717.000000</td>\n",
              "      <td>56717.000000</td>\n",
              "    </tr>\n",
              "    <tr>\n",
              "      <th>mean</th>\n",
              "      <td>1989.669570</td>\n",
              "      <td>62094.660084</td>\n",
              "    </tr>\n",
              "    <tr>\n",
              "      <th>std</th>\n",
              "      <td>16.133198</td>\n",
              "      <td>67835.932856</td>\n",
              "    </tr>\n",
              "    <tr>\n",
              "      <th>min</th>\n",
              "      <td>1961.000000</td>\n",
              "      <td>0.000000</td>\n",
              "    </tr>\n",
              "    <tr>\n",
              "      <th>25%</th>\n",
              "      <td>1976.000000</td>\n",
              "      <td>15680.000000</td>\n",
              "    </tr>\n",
              "    <tr>\n",
              "      <th>50%</th>\n",
              "      <td>1991.000000</td>\n",
              "      <td>36744.000000</td>\n",
              "    </tr>\n",
              "    <tr>\n",
              "      <th>75%</th>\n",
              "      <td>2004.000000</td>\n",
              "      <td>86213.000000</td>\n",
              "    </tr>\n",
              "    <tr>\n",
              "      <th>max</th>\n",
              "      <td>2016.000000</td>\n",
              "      <td>1000000.000000</td>\n",
              "    </tr>\n",
              "  </tbody>\n",
              "</table>\n",
              "</div>"
            ],
            "text/plain": [
              "               Year     hg/ha_yield\n",
              "count  56717.000000    56717.000000\n",
              "mean    1989.669570    62094.660084\n",
              "std       16.133198    67835.932856\n",
              "min     1961.000000        0.000000\n",
              "25%     1976.000000    15680.000000\n",
              "50%     1991.000000    36744.000000\n",
              "75%     2004.000000    86213.000000\n",
              "max     2016.000000  1000000.000000"
            ]
          },
          "execution_count": 7,
          "metadata": {},
          "output_type": "execute_result"
        }
      ],
      "source": [
        "df_yield.describe()"
      ]
    },
    {
      "cell_type": "code",
      "execution_count": 8,
      "metadata": {
        "colab": {
          "base_uri": "https://localhost:8080/"
        },
        "id": "abg7IuE5PbjL",
        "outputId": "d1f7f818-1365-4257-f548-e10e0ebdd576"
      },
      "outputs": [
        {
          "name": "stdout",
          "output_type": "stream",
          "text": [
            "<class 'pandas.core.frame.DataFrame'>\n",
            "Index: 56717 entries, 0 to 56716\n",
            "Data columns (total 4 columns):\n",
            " #   Column       Non-Null Count  Dtype \n",
            "---  ------       --------------  ----- \n",
            " 0   Area         56717 non-null  object\n",
            " 1   Item         56717 non-null  object\n",
            " 2   Year         56717 non-null  int64 \n",
            " 3   hg/ha_yield  56717 non-null  int64 \n",
            "dtypes: int64(2), object(2)\n",
            "memory usage: 2.2+ MB\n"
          ]
        }
      ],
      "source": [
        "df_yield.info()"
      ]
    },
    {
      "cell_type": "markdown",
      "metadata": {
        "id": "W4HNg9iFPbjL"
      },
      "source": [
        "### Climate Data : Rainfall \n",
        "The climatic factors include rainfall and temperature. They are abiotic components, including pesticides and soil, of the environmental factors that influence plant growth and development.\n",
        "\n",
        "\n",
        "Rainfall has a dramatic effect on agriculture. For this project rain fall per year information was gathered from World Data Bank. "
      ]
    },
    {
      "cell_type": "code",
      "execution_count": 9,
      "metadata": {
        "colab": {
          "base_uri": "https://localhost:8080/"
        },
        "id": "fiE8Bo4VPbjM",
        "outputId": "0bd4ee0b-eb81-4d53-9ca2-9f3c2e9517ee",
        "scrolled": true
      },
      "outputs": [
        {
          "data": {
            "text/html": [
              "<div>\n",
              "<style scoped>\n",
              "    .dataframe tbody tr th:only-of-type {\n",
              "        vertical-align: middle;\n",
              "    }\n",
              "\n",
              "    .dataframe tbody tr th {\n",
              "        vertical-align: top;\n",
              "    }\n",
              "\n",
              "    .dataframe thead th {\n",
              "        text-align: right;\n",
              "    }\n",
              "</style>\n",
              "<table border=\"1\" class=\"dataframe\">\n",
              "  <thead>\n",
              "    <tr style=\"text-align: right;\">\n",
              "      <th></th>\n",
              "      <th>Area</th>\n",
              "      <th>Year</th>\n",
              "      <th>average_rain_fall_mm_per_year</th>\n",
              "    </tr>\n",
              "  </thead>\n",
              "  <tbody>\n",
              "    <tr>\n",
              "      <th>0</th>\n",
              "      <td>Afghanistan</td>\n",
              "      <td>1985</td>\n",
              "      <td>327</td>\n",
              "    </tr>\n",
              "    <tr>\n",
              "      <th>1</th>\n",
              "      <td>Afghanistan</td>\n",
              "      <td>1986</td>\n",
              "      <td>327</td>\n",
              "    </tr>\n",
              "    <tr>\n",
              "      <th>2</th>\n",
              "      <td>Afghanistan</td>\n",
              "      <td>1987</td>\n",
              "      <td>327</td>\n",
              "    </tr>\n",
              "    <tr>\n",
              "      <th>3</th>\n",
              "      <td>Afghanistan</td>\n",
              "      <td>1989</td>\n",
              "      <td>327</td>\n",
              "    </tr>\n",
              "    <tr>\n",
              "      <th>4</th>\n",
              "      <td>Afghanistan</td>\n",
              "      <td>1990</td>\n",
              "      <td>327</td>\n",
              "    </tr>\n",
              "  </tbody>\n",
              "</table>\n",
              "</div>"
            ],
            "text/plain": [
              "          Area  Year average_rain_fall_mm_per_year\n",
              "0  Afghanistan  1985                           327\n",
              "1  Afghanistan  1986                           327\n",
              "2  Afghanistan  1987                           327\n",
              "3  Afghanistan  1989                           327\n",
              "4  Afghanistan  1990                           327"
            ]
          },
          "execution_count": 9,
          "metadata": {},
          "output_type": "execute_result"
        }
      ],
      "source": [
        "df_rain = pd.read_csv('rainfall.csv')\n",
        "df_rain.head()"
      ]
    },
    {
      "cell_type": "code",
      "execution_count": 10,
      "metadata": {
        "id": "eSVxn0gaPbjM"
      },
      "outputs": [],
      "source": [
        "df_rain = df_rain.rename(index=str, columns={\" Area\": 'Area'})"
      ]
    },
    {
      "cell_type": "markdown",
      "metadata": {
        "id": "f0f9kYSGPbjM"
      },
      "source": [
        "Making sure that names of columns are unified across all dataframes is important for merging after cleaning afterwards. "
      ]
    },
    {
      "cell_type": "code",
      "execution_count": 11,
      "metadata": {
        "colab": {
          "base_uri": "https://localhost:8080/"
        },
        "id": "bmZrXSLcPbjM",
        "outputId": "0a8b11a1-0078-48d7-997c-fdcf96adc54b",
        "scrolled": true
      },
      "outputs": [
        {
          "name": "stdout",
          "output_type": "stream",
          "text": [
            "<class 'pandas.core.frame.DataFrame'>\n",
            "Index: 6727 entries, 0 to 6726\n",
            "Data columns (total 3 columns):\n",
            " #   Column                         Non-Null Count  Dtype \n",
            "---  ------                         --------------  ----- \n",
            " 0   Area                           6727 non-null   object\n",
            " 1   Year                           6727 non-null   int64 \n",
            " 2   average_rain_fall_mm_per_year  5953 non-null   object\n",
            "dtypes: int64(1), object(2)\n",
            "memory usage: 210.2+ KB\n"
          ]
        }
      ],
      "source": [
        "df_rain.info()"
      ]
    },
    {
      "cell_type": "markdown",
      "metadata": {
        "id": "XIOdrKX8PbjN"
      },
      "source": [
        "We can see from cell above that average_rain_fall_mm_per_year type is an object, we need to turn it to a float value. "
      ]
    },
    {
      "cell_type": "code",
      "execution_count": 12,
      "metadata": {
        "colab": {
          "base_uri": "https://localhost:8080/"
        },
        "id": "zv5XeXmGPbjN",
        "outputId": "5ba520d5-9379-4dbb-e477-a7df823d4dd4",
        "scrolled": true
      },
      "outputs": [
        {
          "name": "stdout",
          "output_type": "stream",
          "text": [
            "<class 'pandas.core.frame.DataFrame'>\n",
            "Index: 6727 entries, 0 to 6726\n",
            "Data columns (total 3 columns):\n",
            " #   Column                         Non-Null Count  Dtype \n",
            "---  ------                         --------------  ----- \n",
            " 0   Area                           6727 non-null   string\n",
            " 1   Year                           6727 non-null   Int64 \n",
            " 2   average_rain_fall_mm_per_year  5953 non-null   string\n",
            "dtypes: Int64(1), string(2)\n",
            "memory usage: 216.8+ KB\n"
          ]
        }
      ],
      "source": [
        "# Convert to best possible dtypes\n",
        "df_rain = df_rain.convert_dtypes()\n",
        "df_rain.info()"
      ]
    },
    {
      "cell_type": "markdown",
      "metadata": {
        "id": "e6NNHDRKPbjN"
      },
      "source": [
        "Next, droping any empty rows from dataset and merge yield dataframe with rain dataframe by year and area columns"
      ]
    },
    {
      "cell_type": "code",
      "execution_count": 13,
      "metadata": {
        "id": "gOqAKKBePbjN"
      },
      "outputs": [],
      "source": [
        "df_rain = df_rain.dropna()"
      ]
    },
    {
      "cell_type": "code",
      "execution_count": 14,
      "metadata": {
        "colab": {
          "base_uri": "https://localhost:8080/"
        },
        "id": "J8brNfsyPbjO",
        "outputId": "5c4f0970-5517-46c4-a522-e383b22d1aa0",
        "scrolled": true
      },
      "outputs": [
        {
          "data": {
            "text/html": [
              "<div>\n",
              "<style scoped>\n",
              "    .dataframe tbody tr th:only-of-type {\n",
              "        vertical-align: middle;\n",
              "    }\n",
              "\n",
              "    .dataframe tbody tr th {\n",
              "        vertical-align: top;\n",
              "    }\n",
              "\n",
              "    .dataframe thead th {\n",
              "        text-align: right;\n",
              "    }\n",
              "</style>\n",
              "<table border=\"1\" class=\"dataframe\">\n",
              "  <thead>\n",
              "    <tr style=\"text-align: right;\">\n",
              "      <th></th>\n",
              "      <th>Year</th>\n",
              "    </tr>\n",
              "  </thead>\n",
              "  <tbody>\n",
              "    <tr>\n",
              "      <th>count</th>\n",
              "      <td>5953.0</td>\n",
              "    </tr>\n",
              "    <tr>\n",
              "      <th>mean</th>\n",
              "      <td>2001.352091</td>\n",
              "    </tr>\n",
              "    <tr>\n",
              "      <th>std</th>\n",
              "      <td>9.531763</td>\n",
              "    </tr>\n",
              "    <tr>\n",
              "      <th>min</th>\n",
              "      <td>1985.0</td>\n",
              "    </tr>\n",
              "    <tr>\n",
              "      <th>25%</th>\n",
              "      <td>1993.0</td>\n",
              "    </tr>\n",
              "    <tr>\n",
              "      <th>50%</th>\n",
              "      <td>2001.0</td>\n",
              "    </tr>\n",
              "    <tr>\n",
              "      <th>75%</th>\n",
              "      <td>2010.0</td>\n",
              "    </tr>\n",
              "    <tr>\n",
              "      <th>max</th>\n",
              "      <td>2017.0</td>\n",
              "    </tr>\n",
              "  </tbody>\n",
              "</table>\n",
              "</div>"
            ],
            "text/plain": [
              "              Year\n",
              "count       5953.0\n",
              "mean   2001.352091\n",
              "std       9.531763\n",
              "min         1985.0\n",
              "25%         1993.0\n",
              "50%         2001.0\n",
              "75%         2010.0\n",
              "max         2017.0"
            ]
          },
          "execution_count": 14,
          "metadata": {},
          "output_type": "execute_result"
        }
      ],
      "source": [
        "df_rain.describe()"
      ]
    },
    {
      "cell_type": "markdown",
      "metadata": {
        "id": "TSKYOtLYPbjO"
      },
      "source": [
        "The rainfall dataframe begins at 1985 and ends at 2016. "
      ]
    },
    {
      "cell_type": "code",
      "execution_count": 15,
      "metadata": {
        "id": "ZZeyof-ePbjO"
      },
      "outputs": [
        {
          "data": {
            "text/html": [
              "<div>\n",
              "<style scoped>\n",
              "    .dataframe tbody tr th:only-of-type {\n",
              "        vertical-align: middle;\n",
              "    }\n",
              "\n",
              "    .dataframe tbody tr th {\n",
              "        vertical-align: top;\n",
              "    }\n",
              "\n",
              "    .dataframe thead th {\n",
              "        text-align: right;\n",
              "    }\n",
              "</style>\n",
              "<table border=\"1\" class=\"dataframe\">\n",
              "  <thead>\n",
              "    <tr style=\"text-align: right;\">\n",
              "      <th></th>\n",
              "      <th>Area</th>\n",
              "      <th>Item</th>\n",
              "      <th>Year</th>\n",
              "      <th>hg/ha_yield</th>\n",
              "      <th>average_rain_fall_mm_per_year</th>\n",
              "    </tr>\n",
              "  </thead>\n",
              "  <tbody>\n",
              "    <tr>\n",
              "      <th>0</th>\n",
              "      <td>Afghanistan</td>\n",
              "      <td>Maize</td>\n",
              "      <td>1985</td>\n",
              "      <td>16652</td>\n",
              "      <td>327</td>\n",
              "    </tr>\n",
              "    <tr>\n",
              "      <th>1</th>\n",
              "      <td>Afghanistan</td>\n",
              "      <td>Maize</td>\n",
              "      <td>1986</td>\n",
              "      <td>16875</td>\n",
              "      <td>327</td>\n",
              "    </tr>\n",
              "    <tr>\n",
              "      <th>2</th>\n",
              "      <td>Afghanistan</td>\n",
              "      <td>Maize</td>\n",
              "      <td>1987</td>\n",
              "      <td>17020</td>\n",
              "      <td>327</td>\n",
              "    </tr>\n",
              "    <tr>\n",
              "      <th>3</th>\n",
              "      <td>Afghanistan</td>\n",
              "      <td>Maize</td>\n",
              "      <td>1989</td>\n",
              "      <td>16963</td>\n",
              "      <td>327</td>\n",
              "    </tr>\n",
              "    <tr>\n",
              "      <th>4</th>\n",
              "      <td>Afghanistan</td>\n",
              "      <td>Maize</td>\n",
              "      <td>1990</td>\n",
              "      <td>17582</td>\n",
              "      <td>327</td>\n",
              "    </tr>\n",
              "  </tbody>\n",
              "</table>\n",
              "</div>"
            ],
            "text/plain": [
              "          Area   Item  Year  hg/ha_yield average_rain_fall_mm_per_year\n",
              "0  Afghanistan  Maize  1985        16652                           327\n",
              "1  Afghanistan  Maize  1986        16875                           327\n",
              "2  Afghanistan  Maize  1987        17020                           327\n",
              "3  Afghanistan  Maize  1989        16963                           327\n",
              "4  Afghanistan  Maize  1990        17582                           327"
            ]
          },
          "execution_count": 15,
          "metadata": {},
          "output_type": "execute_result"
        }
      ],
      "source": [
        "yield_df = pd.merge(df_yield, df_rain, on=['Year','Area'])\n",
        "yield_df.head()\n"
      ]
    },
    {
      "cell_type": "markdown",
      "metadata": {
        "id": "W6ZXNpb0PbjO"
      },
      "source": [
        "Now, we view the final shape of the dataframe and info of values:"
      ]
    },
    {
      "cell_type": "code",
      "execution_count": 16,
      "metadata": {
        "colab": {
          "base_uri": "https://localhost:8080/"
        },
        "id": "MNbHpEsoPbjO",
        "outputId": "7b8e2376-55d8-416e-fc71-3574422ac334",
        "scrolled": false
      },
      "outputs": [
        {
          "data": {
            "text/plain": [
              "(25400, 5)"
            ]
          },
          "execution_count": 16,
          "metadata": {},
          "output_type": "execute_result"
        }
      ],
      "source": [
        "yield_df.shape"
      ]
    },
    {
      "cell_type": "code",
      "execution_count": 17,
      "metadata": {
        "colab": {
          "base_uri": "https://localhost:8080/"
        },
        "id": "A6qNux1IPbjP",
        "outputId": "c41451a5-bb09-4df4-9525-354804fdca9a",
        "scrolled": true
      },
      "outputs": [
        {
          "data": {
            "text/html": [
              "<div>\n",
              "<style scoped>\n",
              "    .dataframe tbody tr th:only-of-type {\n",
              "        vertical-align: middle;\n",
              "    }\n",
              "\n",
              "    .dataframe tbody tr th {\n",
              "        vertical-align: top;\n",
              "    }\n",
              "\n",
              "    .dataframe thead th {\n",
              "        text-align: right;\n",
              "    }\n",
              "</style>\n",
              "<table border=\"1\" class=\"dataframe\">\n",
              "  <thead>\n",
              "    <tr style=\"text-align: right;\">\n",
              "      <th></th>\n",
              "      <th>Area</th>\n",
              "      <th>Item</th>\n",
              "      <th>Year</th>\n",
              "      <th>hg/ha_yield</th>\n",
              "      <th>average_rain_fall_mm_per_year</th>\n",
              "    </tr>\n",
              "  </thead>\n",
              "  <tbody>\n",
              "    <tr>\n",
              "      <th>0</th>\n",
              "      <td>Afghanistan</td>\n",
              "      <td>Maize</td>\n",
              "      <td>1985</td>\n",
              "      <td>16652</td>\n",
              "      <td>327</td>\n",
              "    </tr>\n",
              "    <tr>\n",
              "      <th>1</th>\n",
              "      <td>Afghanistan</td>\n",
              "      <td>Maize</td>\n",
              "      <td>1986</td>\n",
              "      <td>16875</td>\n",
              "      <td>327</td>\n",
              "    </tr>\n",
              "    <tr>\n",
              "      <th>2</th>\n",
              "      <td>Afghanistan</td>\n",
              "      <td>Maize</td>\n",
              "      <td>1987</td>\n",
              "      <td>17020</td>\n",
              "      <td>327</td>\n",
              "    </tr>\n",
              "    <tr>\n",
              "      <th>3</th>\n",
              "      <td>Afghanistan</td>\n",
              "      <td>Maize</td>\n",
              "      <td>1989</td>\n",
              "      <td>16963</td>\n",
              "      <td>327</td>\n",
              "    </tr>\n",
              "    <tr>\n",
              "      <th>4</th>\n",
              "      <td>Afghanistan</td>\n",
              "      <td>Maize</td>\n",
              "      <td>1990</td>\n",
              "      <td>17582</td>\n",
              "      <td>327</td>\n",
              "    </tr>\n",
              "  </tbody>\n",
              "</table>\n",
              "</div>"
            ],
            "text/plain": [
              "          Area   Item  Year  hg/ha_yield average_rain_fall_mm_per_year\n",
              "0  Afghanistan  Maize  1985        16652                           327\n",
              "1  Afghanistan  Maize  1986        16875                           327\n",
              "2  Afghanistan  Maize  1987        17020                           327\n",
              "3  Afghanistan  Maize  1989        16963                           327\n",
              "4  Afghanistan  Maize  1990        17582                           327"
            ]
          },
          "execution_count": 17,
          "metadata": {},
          "output_type": "execute_result"
        }
      ],
      "source": [
        "yield_df.head()"
      ]
    },
    {
      "cell_type": "markdown",
      "metadata": {
        "id": "m_TvA6nNPbjP"
      },
      "source": [
        "We can see that now the years start from the first yield dataframe the starting year was 1961, now it's 1985 because that's when the rainfall data begins. "
      ]
    },
    {
      "cell_type": "code",
      "execution_count": 18,
      "metadata": {
        "colab": {
          "base_uri": "https://localhost:8080/"
        },
        "id": "on2ay1Y5PbjP",
        "outputId": "da88077f-7060-4ace-91e8-d631a1d525b2",
        "scrolled": true
      },
      "outputs": [
        {
          "data": {
            "text/html": [
              "<div>\n",
              "<style scoped>\n",
              "    .dataframe tbody tr th:only-of-type {\n",
              "        vertical-align: middle;\n",
              "    }\n",
              "\n",
              "    .dataframe tbody tr th {\n",
              "        vertical-align: top;\n",
              "    }\n",
              "\n",
              "    .dataframe thead th {\n",
              "        text-align: right;\n",
              "    }\n",
              "</style>\n",
              "<table border=\"1\" class=\"dataframe\">\n",
              "  <thead>\n",
              "    <tr style=\"text-align: right;\">\n",
              "      <th></th>\n",
              "      <th>Year</th>\n",
              "      <th>hg/ha_yield</th>\n",
              "    </tr>\n",
              "  </thead>\n",
              "  <tbody>\n",
              "    <tr>\n",
              "      <th>count</th>\n",
              "      <td>25400.000000</td>\n",
              "      <td>25400.000000</td>\n",
              "    </tr>\n",
              "    <tr>\n",
              "      <th>mean</th>\n",
              "      <td>2001.271063</td>\n",
              "      <td>68302.909764</td>\n",
              "    </tr>\n",
              "    <tr>\n",
              "      <th>std</th>\n",
              "      <td>9.146908</td>\n",
              "      <td>75197.804855</td>\n",
              "    </tr>\n",
              "    <tr>\n",
              "      <th>min</th>\n",
              "      <td>1985.000000</td>\n",
              "      <td>50.000000</td>\n",
              "    </tr>\n",
              "    <tr>\n",
              "      <th>25%</th>\n",
              "      <td>1994.000000</td>\n",
              "      <td>17430.750000</td>\n",
              "    </tr>\n",
              "    <tr>\n",
              "      <th>50%</th>\n",
              "      <td>2001.000000</td>\n",
              "      <td>38750.000000</td>\n",
              "    </tr>\n",
              "    <tr>\n",
              "      <th>75%</th>\n",
              "      <td>2009.000000</td>\n",
              "      <td>94286.000000</td>\n",
              "    </tr>\n",
              "    <tr>\n",
              "      <th>max</th>\n",
              "      <td>2016.000000</td>\n",
              "      <td>554855.000000</td>\n",
              "    </tr>\n",
              "  </tbody>\n",
              "</table>\n",
              "</div>"
            ],
            "text/plain": [
              "               Year    hg/ha_yield\n",
              "count  25400.000000   25400.000000\n",
              "mean    2001.271063   68302.909764\n",
              "std        9.146908   75197.804855\n",
              "min     1985.000000      50.000000\n",
              "25%     1994.000000   17430.750000\n",
              "50%     2001.000000   38750.000000\n",
              "75%     2009.000000   94286.000000\n",
              "max     2016.000000  554855.000000"
            ]
          },
          "execution_count": 18,
          "metadata": {},
          "output_type": "execute_result"
        }
      ],
      "source": [
        "yield_df.describe()"
      ]
    },
    {
      "cell_type": "markdown",
      "metadata": {
        "id": "M-SsQcPEPbjQ"
      },
      "source": [
        "### Pesticides Data:\n",
        "Pesticides used for each item and country was also collected from FAO database.  "
      ]
    },
    {
      "cell_type": "code",
      "execution_count": 19,
      "metadata": {
        "colab": {
          "base_uri": "https://localhost:8080/"
        },
        "id": "QjjGsr2hPbjQ",
        "outputId": "6c6a111c-d5cb-4e7d-8760-e1ca616fc208"
      },
      "outputs": [
        {
          "data": {
            "text/html": [
              "<div>\n",
              "<style scoped>\n",
              "    .dataframe tbody tr th:only-of-type {\n",
              "        vertical-align: middle;\n",
              "    }\n",
              "\n",
              "    .dataframe tbody tr th {\n",
              "        vertical-align: top;\n",
              "    }\n",
              "\n",
              "    .dataframe thead th {\n",
              "        text-align: right;\n",
              "    }\n",
              "</style>\n",
              "<table border=\"1\" class=\"dataframe\">\n",
              "  <thead>\n",
              "    <tr style=\"text-align: right;\">\n",
              "      <th></th>\n",
              "      <th>Domain</th>\n",
              "      <th>Area</th>\n",
              "      <th>Element</th>\n",
              "      <th>Item</th>\n",
              "      <th>Year</th>\n",
              "      <th>Unit</th>\n",
              "      <th>Value</th>\n",
              "    </tr>\n",
              "  </thead>\n",
              "  <tbody>\n",
              "    <tr>\n",
              "      <th>0</th>\n",
              "      <td>Pesticides Use</td>\n",
              "      <td>Albania</td>\n",
              "      <td>Use</td>\n",
              "      <td>Pesticides (total)</td>\n",
              "      <td>1990</td>\n",
              "      <td>tonnes of active ingredients</td>\n",
              "      <td>121.0</td>\n",
              "    </tr>\n",
              "    <tr>\n",
              "      <th>1</th>\n",
              "      <td>Pesticides Use</td>\n",
              "      <td>Albania</td>\n",
              "      <td>Use</td>\n",
              "      <td>Pesticides (total)</td>\n",
              "      <td>1991</td>\n",
              "      <td>tonnes of active ingredients</td>\n",
              "      <td>121.0</td>\n",
              "    </tr>\n",
              "    <tr>\n",
              "      <th>2</th>\n",
              "      <td>Pesticides Use</td>\n",
              "      <td>Albania</td>\n",
              "      <td>Use</td>\n",
              "      <td>Pesticides (total)</td>\n",
              "      <td>1992</td>\n",
              "      <td>tonnes of active ingredients</td>\n",
              "      <td>121.0</td>\n",
              "    </tr>\n",
              "    <tr>\n",
              "      <th>3</th>\n",
              "      <td>Pesticides Use</td>\n",
              "      <td>Albania</td>\n",
              "      <td>Use</td>\n",
              "      <td>Pesticides (total)</td>\n",
              "      <td>1993</td>\n",
              "      <td>tonnes of active ingredients</td>\n",
              "      <td>121.0</td>\n",
              "    </tr>\n",
              "    <tr>\n",
              "      <th>4</th>\n",
              "      <td>Pesticides Use</td>\n",
              "      <td>Albania</td>\n",
              "      <td>Use</td>\n",
              "      <td>Pesticides (total)</td>\n",
              "      <td>1994</td>\n",
              "      <td>tonnes of active ingredients</td>\n",
              "      <td>201.0</td>\n",
              "    </tr>\n",
              "  </tbody>\n",
              "</table>\n",
              "</div>"
            ],
            "text/plain": [
              "           Domain     Area Element                Item  Year  \\\n",
              "0  Pesticides Use  Albania     Use  Pesticides (total)  1990   \n",
              "1  Pesticides Use  Albania     Use  Pesticides (total)  1991   \n",
              "2  Pesticides Use  Albania     Use  Pesticides (total)  1992   \n",
              "3  Pesticides Use  Albania     Use  Pesticides (total)  1993   \n",
              "4  Pesticides Use  Albania     Use  Pesticides (total)  1994   \n",
              "\n",
              "                           Unit  Value  \n",
              "0  tonnes of active ingredients  121.0  \n",
              "1  tonnes of active ingredients  121.0  \n",
              "2  tonnes of active ingredients  121.0  \n",
              "3  tonnes of active ingredients  121.0  \n",
              "4  tonnes of active ingredients  201.0  "
            ]
          },
          "execution_count": 19,
          "metadata": {},
          "output_type": "execute_result"
        }
      ],
      "source": [
        "df_pes = pd.read_csv('pesticides.csv')\n",
        "df_pes.head()"
      ]
    },
    {
      "cell_type": "code",
      "execution_count": 20,
      "metadata": {
        "colab": {
          "base_uri": "https://localhost:8080/"
        },
        "id": "_OWCDYVdPbjQ",
        "outputId": "89013a40-7838-4640-f9c5-c5907b9c7398"
      },
      "outputs": [
        {
          "data": {
            "text/html": [
              "<div>\n",
              "<style scoped>\n",
              "    .dataframe tbody tr th:only-of-type {\n",
              "        vertical-align: middle;\n",
              "    }\n",
              "\n",
              "    .dataframe tbody tr th {\n",
              "        vertical-align: top;\n",
              "    }\n",
              "\n",
              "    .dataframe thead th {\n",
              "        text-align: right;\n",
              "    }\n",
              "</style>\n",
              "<table border=\"1\" class=\"dataframe\">\n",
              "  <thead>\n",
              "    <tr style=\"text-align: right;\">\n",
              "      <th></th>\n",
              "      <th>Area</th>\n",
              "      <th>Year</th>\n",
              "      <th>pesticides_tonnes</th>\n",
              "    </tr>\n",
              "  </thead>\n",
              "  <tbody>\n",
              "    <tr>\n",
              "      <th>0</th>\n",
              "      <td>Albania</td>\n",
              "      <td>1990</td>\n",
              "      <td>121.0</td>\n",
              "    </tr>\n",
              "    <tr>\n",
              "      <th>1</th>\n",
              "      <td>Albania</td>\n",
              "      <td>1991</td>\n",
              "      <td>121.0</td>\n",
              "    </tr>\n",
              "    <tr>\n",
              "      <th>2</th>\n",
              "      <td>Albania</td>\n",
              "      <td>1992</td>\n",
              "      <td>121.0</td>\n",
              "    </tr>\n",
              "    <tr>\n",
              "      <th>3</th>\n",
              "      <td>Albania</td>\n",
              "      <td>1993</td>\n",
              "      <td>121.0</td>\n",
              "    </tr>\n",
              "    <tr>\n",
              "      <th>4</th>\n",
              "      <td>Albania</td>\n",
              "      <td>1994</td>\n",
              "      <td>201.0</td>\n",
              "    </tr>\n",
              "  </tbody>\n",
              "</table>\n",
              "</div>"
            ],
            "text/plain": [
              "      Area  Year  pesticides_tonnes\n",
              "0  Albania  1990              121.0\n",
              "1  Albania  1991              121.0\n",
              "2  Albania  1992              121.0\n",
              "3  Albania  1993              121.0\n",
              "4  Albania  1994              201.0"
            ]
          },
          "execution_count": 20,
          "metadata": {},
          "output_type": "execute_result"
        }
      ],
      "source": [
        "df_pes = df_pes.rename(index=str, columns={\"Value\": \"pesticides_tonnes\"})\n",
        "df_pes = df_pes.drop(['Element','Domain','Unit','Item'], axis=1)\n",
        "df_pes.head()"
      ]
    },
    {
      "cell_type": "code",
      "execution_count": 21,
      "metadata": {
        "colab": {
          "base_uri": "https://localhost:8080/"
        },
        "id": "Al-g5qOAPbjQ",
        "outputId": "02edcc29-1fbc-4580-c610-fa8c17fc53cc",
        "scrolled": true
      },
      "outputs": [
        {
          "data": {
            "text/html": [
              "<div>\n",
              "<style scoped>\n",
              "    .dataframe tbody tr th:only-of-type {\n",
              "        vertical-align: middle;\n",
              "    }\n",
              "\n",
              "    .dataframe tbody tr th {\n",
              "        vertical-align: top;\n",
              "    }\n",
              "\n",
              "    .dataframe thead th {\n",
              "        text-align: right;\n",
              "    }\n",
              "</style>\n",
              "<table border=\"1\" class=\"dataframe\">\n",
              "  <thead>\n",
              "    <tr style=\"text-align: right;\">\n",
              "      <th></th>\n",
              "      <th>Year</th>\n",
              "      <th>pesticides_tonnes</th>\n",
              "    </tr>\n",
              "  </thead>\n",
              "  <tbody>\n",
              "    <tr>\n",
              "      <th>count</th>\n",
              "      <td>4349.000000</td>\n",
              "      <td>4.349000e+03</td>\n",
              "    </tr>\n",
              "    <tr>\n",
              "      <th>mean</th>\n",
              "      <td>2003.138883</td>\n",
              "      <td>2.030334e+04</td>\n",
              "    </tr>\n",
              "    <tr>\n",
              "      <th>std</th>\n",
              "      <td>7.728044</td>\n",
              "      <td>1.177362e+05</td>\n",
              "    </tr>\n",
              "    <tr>\n",
              "      <th>min</th>\n",
              "      <td>1990.000000</td>\n",
              "      <td>0.000000e+00</td>\n",
              "    </tr>\n",
              "    <tr>\n",
              "      <th>25%</th>\n",
              "      <td>1996.000000</td>\n",
              "      <td>9.300000e+01</td>\n",
              "    </tr>\n",
              "    <tr>\n",
              "      <th>50%</th>\n",
              "      <td>2003.000000</td>\n",
              "      <td>1.137560e+03</td>\n",
              "    </tr>\n",
              "    <tr>\n",
              "      <th>75%</th>\n",
              "      <td>2010.000000</td>\n",
              "      <td>7.869000e+03</td>\n",
              "    </tr>\n",
              "    <tr>\n",
              "      <th>max</th>\n",
              "      <td>2016.000000</td>\n",
              "      <td>1.807000e+06</td>\n",
              "    </tr>\n",
              "  </tbody>\n",
              "</table>\n",
              "</div>"
            ],
            "text/plain": [
              "              Year  pesticides_tonnes\n",
              "count  4349.000000       4.349000e+03\n",
              "mean   2003.138883       2.030334e+04\n",
              "std       7.728044       1.177362e+05\n",
              "min    1990.000000       0.000000e+00\n",
              "25%    1996.000000       9.300000e+01\n",
              "50%    2003.000000       1.137560e+03\n",
              "75%    2010.000000       7.869000e+03\n",
              "max    2016.000000       1.807000e+06"
            ]
          },
          "execution_count": 21,
          "metadata": {},
          "output_type": "execute_result"
        }
      ],
      "source": [
        "df_pes.describe()"
      ]
    },
    {
      "cell_type": "code",
      "execution_count": 22,
      "metadata": {
        "colab": {
          "base_uri": "https://localhost:8080/"
        },
        "id": "KC5yq3_mPbjQ",
        "outputId": "b05d2a7d-c315-436a-e909-460be0b89874"
      },
      "outputs": [
        {
          "name": "stdout",
          "output_type": "stream",
          "text": [
            "<class 'pandas.core.frame.DataFrame'>\n",
            "Index: 4349 entries, 0 to 4348\n",
            "Data columns (total 3 columns):\n",
            " #   Column             Non-Null Count  Dtype  \n",
            "---  ------             --------------  -----  \n",
            " 0   Area               4349 non-null   object \n",
            " 1   Year               4349 non-null   int64  \n",
            " 2   pesticides_tonnes  4349 non-null   float64\n",
            "dtypes: float64(1), int64(1), object(1)\n",
            "memory usage: 135.9+ KB\n"
          ]
        }
      ],
      "source": [
        "df_pes.info()"
      ]
    },
    {
      "cell_type": "code",
      "execution_count": 23,
      "metadata": {
        "colab": {
          "base_uri": "https://localhost:8080/"
        },
        "id": "M_c7UPraPbjQ",
        "outputId": "35421ade-b99f-4bdd-e16b-0debee8da67e"
      },
      "outputs": [
        {
          "data": {
            "text/plain": [
              "(18955, 6)"
            ]
          },
          "execution_count": 23,
          "metadata": {},
          "output_type": "execute_result"
        }
      ],
      "source": [
        "# merge Pesticides dataframe with yield dataframe \n",
        "yield_df = pd.merge(yield_df, df_pes, on=['Year','Area'])\n",
        "yield_df.shape"
      ]
    },
    {
      "cell_type": "code",
      "execution_count": 24,
      "metadata": {
        "colab": {
          "base_uri": "https://localhost:8080/"
        },
        "id": "UOhTRgLhPbjR",
        "outputId": "702e0dd4-38c0-44d5-e989-7ca2bae5376b",
        "scrolled": true
      },
      "outputs": [
        {
          "data": {
            "text/html": [
              "<div>\n",
              "<style scoped>\n",
              "    .dataframe tbody tr th:only-of-type {\n",
              "        vertical-align: middle;\n",
              "    }\n",
              "\n",
              "    .dataframe tbody tr th {\n",
              "        vertical-align: top;\n",
              "    }\n",
              "\n",
              "    .dataframe thead th {\n",
              "        text-align: right;\n",
              "    }\n",
              "</style>\n",
              "<table border=\"1\" class=\"dataframe\">\n",
              "  <thead>\n",
              "    <tr style=\"text-align: right;\">\n",
              "      <th></th>\n",
              "      <th>Area</th>\n",
              "      <th>Item</th>\n",
              "      <th>Year</th>\n",
              "      <th>hg/ha_yield</th>\n",
              "      <th>average_rain_fall_mm_per_year</th>\n",
              "      <th>pesticides_tonnes</th>\n",
              "    </tr>\n",
              "  </thead>\n",
              "  <tbody>\n",
              "    <tr>\n",
              "      <th>0</th>\n",
              "      <td>Albania</td>\n",
              "      <td>Maize</td>\n",
              "      <td>1990</td>\n",
              "      <td>36613</td>\n",
              "      <td>1485</td>\n",
              "      <td>121.0</td>\n",
              "    </tr>\n",
              "    <tr>\n",
              "      <th>1</th>\n",
              "      <td>Albania</td>\n",
              "      <td>Maize</td>\n",
              "      <td>1991</td>\n",
              "      <td>29068</td>\n",
              "      <td>1485</td>\n",
              "      <td>121.0</td>\n",
              "    </tr>\n",
              "    <tr>\n",
              "      <th>2</th>\n",
              "      <td>Albania</td>\n",
              "      <td>Maize</td>\n",
              "      <td>1992</td>\n",
              "      <td>24876</td>\n",
              "      <td>1485</td>\n",
              "      <td>121.0</td>\n",
              "    </tr>\n",
              "    <tr>\n",
              "      <th>3</th>\n",
              "      <td>Albania</td>\n",
              "      <td>Maize</td>\n",
              "      <td>1993</td>\n",
              "      <td>24185</td>\n",
              "      <td>1485</td>\n",
              "      <td>121.0</td>\n",
              "    </tr>\n",
              "    <tr>\n",
              "      <th>4</th>\n",
              "      <td>Albania</td>\n",
              "      <td>Maize</td>\n",
              "      <td>1994</td>\n",
              "      <td>25848</td>\n",
              "      <td>1485</td>\n",
              "      <td>201.0</td>\n",
              "    </tr>\n",
              "  </tbody>\n",
              "</table>\n",
              "</div>"
            ],
            "text/plain": [
              "      Area   Item  Year  hg/ha_yield average_rain_fall_mm_per_year  \\\n",
              "0  Albania  Maize  1990        36613                          1485   \n",
              "1  Albania  Maize  1991        29068                          1485   \n",
              "2  Albania  Maize  1992        24876                          1485   \n",
              "3  Albania  Maize  1993        24185                          1485   \n",
              "4  Albania  Maize  1994        25848                          1485   \n",
              "\n",
              "   pesticides_tonnes  \n",
              "0              121.0  \n",
              "1              121.0  \n",
              "2              121.0  \n",
              "3              121.0  \n",
              "4              201.0  "
            ]
          },
          "execution_count": 24,
          "metadata": {},
          "output_type": "execute_result"
        }
      ],
      "source": [
        "yield_df.head()"
      ]
    },
    {
      "cell_type": "markdown",
      "metadata": {
        "id": "4tlK_DQ4PbjR"
      },
      "source": [
        "### Average Temprature: \n",
        "\n",
        "Average Temprature for each country was colleced from World Bank Data. "
      ]
    },
    {
      "cell_type": "code",
      "execution_count": 25,
      "metadata": {
        "id": "8TRwVXTjPbjR"
      },
      "outputs": [],
      "source": [
        "avg_temp=  pd.read_csv('temp.csv')"
      ]
    },
    {
      "cell_type": "code",
      "execution_count": 26,
      "metadata": {
        "colab": {
          "base_uri": "https://localhost:8080/"
        },
        "id": "vuaA5aznPbjR",
        "outputId": "8d8c466d-3661-4f9c-dd7b-8e974cc24a64",
        "scrolled": true
      },
      "outputs": [
        {
          "data": {
            "text/html": [
              "<div>\n",
              "<style scoped>\n",
              "    .dataframe tbody tr th:only-of-type {\n",
              "        vertical-align: middle;\n",
              "    }\n",
              "\n",
              "    .dataframe tbody tr th {\n",
              "        vertical-align: top;\n",
              "    }\n",
              "\n",
              "    .dataframe thead th {\n",
              "        text-align: right;\n",
              "    }\n",
              "</style>\n",
              "<table border=\"1\" class=\"dataframe\">\n",
              "  <thead>\n",
              "    <tr style=\"text-align: right;\">\n",
              "      <th></th>\n",
              "      <th>year</th>\n",
              "      <th>country</th>\n",
              "      <th>avg_temp</th>\n",
              "    </tr>\n",
              "  </thead>\n",
              "  <tbody>\n",
              "    <tr>\n",
              "      <th>0</th>\n",
              "      <td>1849</td>\n",
              "      <td>Côte D'Ivoire</td>\n",
              "      <td>25.58</td>\n",
              "    </tr>\n",
              "    <tr>\n",
              "      <th>1</th>\n",
              "      <td>1850</td>\n",
              "      <td>Côte D'Ivoire</td>\n",
              "      <td>25.52</td>\n",
              "    </tr>\n",
              "    <tr>\n",
              "      <th>2</th>\n",
              "      <td>1851</td>\n",
              "      <td>Côte D'Ivoire</td>\n",
              "      <td>25.67</td>\n",
              "    </tr>\n",
              "    <tr>\n",
              "      <th>3</th>\n",
              "      <td>1852</td>\n",
              "      <td>Côte D'Ivoire</td>\n",
              "      <td>NaN</td>\n",
              "    </tr>\n",
              "    <tr>\n",
              "      <th>4</th>\n",
              "      <td>1853</td>\n",
              "      <td>Côte D'Ivoire</td>\n",
              "      <td>NaN</td>\n",
              "    </tr>\n",
              "  </tbody>\n",
              "</table>\n",
              "</div>"
            ],
            "text/plain": [
              "   year        country  avg_temp\n",
              "0  1849  Côte D'Ivoire     25.58\n",
              "1  1850  Côte D'Ivoire     25.52\n",
              "2  1851  Côte D'Ivoire     25.67\n",
              "3  1852  Côte D'Ivoire       NaN\n",
              "4  1853  Côte D'Ivoire       NaN"
            ]
          },
          "execution_count": 26,
          "metadata": {},
          "output_type": "execute_result"
        }
      ],
      "source": [
        "avg_temp.head()"
      ]
    },
    {
      "cell_type": "code",
      "execution_count": 27,
      "metadata": {
        "colab": {
          "base_uri": "https://localhost:8080/"
        },
        "id": "4aCRwUk-PbjR",
        "outputId": "3c72bd35-7cba-4985-c471-e1946a1ca156",
        "scrolled": true
      },
      "outputs": [
        {
          "data": {
            "text/html": [
              "<div>\n",
              "<style scoped>\n",
              "    .dataframe tbody tr th:only-of-type {\n",
              "        vertical-align: middle;\n",
              "    }\n",
              "\n",
              "    .dataframe tbody tr th {\n",
              "        vertical-align: top;\n",
              "    }\n",
              "\n",
              "    .dataframe thead th {\n",
              "        text-align: right;\n",
              "    }\n",
              "</style>\n",
              "<table border=\"1\" class=\"dataframe\">\n",
              "  <thead>\n",
              "    <tr style=\"text-align: right;\">\n",
              "      <th></th>\n",
              "      <th>year</th>\n",
              "      <th>avg_temp</th>\n",
              "    </tr>\n",
              "  </thead>\n",
              "  <tbody>\n",
              "    <tr>\n",
              "      <th>count</th>\n",
              "      <td>71311.000000</td>\n",
              "      <td>68764.000000</td>\n",
              "    </tr>\n",
              "    <tr>\n",
              "      <th>mean</th>\n",
              "      <td>1905.799007</td>\n",
              "      <td>16.183876</td>\n",
              "    </tr>\n",
              "    <tr>\n",
              "      <th>std</th>\n",
              "      <td>67.102099</td>\n",
              "      <td>7.592960</td>\n",
              "    </tr>\n",
              "    <tr>\n",
              "      <th>min</th>\n",
              "      <td>1743.000000</td>\n",
              "      <td>-14.350000</td>\n",
              "    </tr>\n",
              "    <tr>\n",
              "      <th>25%</th>\n",
              "      <td>1858.000000</td>\n",
              "      <td>9.750000</td>\n",
              "    </tr>\n",
              "    <tr>\n",
              "      <th>50%</th>\n",
              "      <td>1910.000000</td>\n",
              "      <td>16.140000</td>\n",
              "    </tr>\n",
              "    <tr>\n",
              "      <th>75%</th>\n",
              "      <td>1962.000000</td>\n",
              "      <td>23.762500</td>\n",
              "    </tr>\n",
              "    <tr>\n",
              "      <th>max</th>\n",
              "      <td>2013.000000</td>\n",
              "      <td>30.730000</td>\n",
              "    </tr>\n",
              "  </tbody>\n",
              "</table>\n",
              "</div>"
            ],
            "text/plain": [
              "               year      avg_temp\n",
              "count  71311.000000  68764.000000\n",
              "mean    1905.799007     16.183876\n",
              "std       67.102099      7.592960\n",
              "min     1743.000000    -14.350000\n",
              "25%     1858.000000      9.750000\n",
              "50%     1910.000000     16.140000\n",
              "75%     1962.000000     23.762500\n",
              "max     2013.000000     30.730000"
            ]
          },
          "execution_count": 27,
          "metadata": {},
          "output_type": "execute_result"
        }
      ],
      "source": [
        "avg_temp.describe()"
      ]
    },
    {
      "cell_type": "markdown",
      "metadata": {
        "id": "if0Ko0H-PbjR"
      },
      "source": [
        "So average temprature starts from 1743 and ends at 2013, with some empty rows that we have dropped."
      ]
    },
    {
      "cell_type": "code",
      "execution_count": 28,
      "metadata": {
        "colab": {
          "base_uri": "https://localhost:8080/"
        },
        "id": "UWyR3mimPbjS",
        "outputId": "9f588a19-19ce-4c99-fc75-42ba78862568",
        "scrolled": true
      },
      "outputs": [
        {
          "data": {
            "text/html": [
              "<div>\n",
              "<style scoped>\n",
              "    .dataframe tbody tr th:only-of-type {\n",
              "        vertical-align: middle;\n",
              "    }\n",
              "\n",
              "    .dataframe tbody tr th {\n",
              "        vertical-align: top;\n",
              "    }\n",
              "\n",
              "    .dataframe thead th {\n",
              "        text-align: right;\n",
              "    }\n",
              "</style>\n",
              "<table border=\"1\" class=\"dataframe\">\n",
              "  <thead>\n",
              "    <tr style=\"text-align: right;\">\n",
              "      <th></th>\n",
              "      <th>Year</th>\n",
              "      <th>Area</th>\n",
              "      <th>avg_temp</th>\n",
              "    </tr>\n",
              "  </thead>\n",
              "  <tbody>\n",
              "    <tr>\n",
              "      <th>0</th>\n",
              "      <td>1849</td>\n",
              "      <td>Côte D'Ivoire</td>\n",
              "      <td>25.58</td>\n",
              "    </tr>\n",
              "    <tr>\n",
              "      <th>1</th>\n",
              "      <td>1850</td>\n",
              "      <td>Côte D'Ivoire</td>\n",
              "      <td>25.52</td>\n",
              "    </tr>\n",
              "    <tr>\n",
              "      <th>2</th>\n",
              "      <td>1851</td>\n",
              "      <td>Côte D'Ivoire</td>\n",
              "      <td>25.67</td>\n",
              "    </tr>\n",
              "    <tr>\n",
              "      <th>3</th>\n",
              "      <td>1852</td>\n",
              "      <td>Côte D'Ivoire</td>\n",
              "      <td>NaN</td>\n",
              "    </tr>\n",
              "    <tr>\n",
              "      <th>4</th>\n",
              "      <td>1853</td>\n",
              "      <td>Côte D'Ivoire</td>\n",
              "      <td>NaN</td>\n",
              "    </tr>\n",
              "  </tbody>\n",
              "</table>\n",
              "</div>"
            ],
            "text/plain": [
              "   Year           Area  avg_temp\n",
              "0  1849  Côte D'Ivoire     25.58\n",
              "1  1850  Côte D'Ivoire     25.52\n",
              "2  1851  Côte D'Ivoire     25.67\n",
              "3  1852  Côte D'Ivoire       NaN\n",
              "4  1853  Côte D'Ivoire       NaN"
            ]
          },
          "execution_count": 28,
          "metadata": {},
          "output_type": "execute_result"
        }
      ],
      "source": [
        "avg_temp = avg_temp.rename(index=str, columns={\"year\": \"Year\", \"country\":'Area'})\n",
        "avg_temp.head()"
      ]
    },
    {
      "cell_type": "code",
      "execution_count": 29,
      "metadata": {
        "colab": {
          "base_uri": "https://localhost:8080/"
        },
        "id": "FAc6Te91PbjS",
        "outputId": "ed978db9-649b-45ac-d937-e7f0b6dd0f0d",
        "scrolled": true
      },
      "outputs": [
        {
          "data": {
            "text/html": [
              "<div>\n",
              "<style scoped>\n",
              "    .dataframe tbody tr th:only-of-type {\n",
              "        vertical-align: middle;\n",
              "    }\n",
              "\n",
              "    .dataframe tbody tr th {\n",
              "        vertical-align: top;\n",
              "    }\n",
              "\n",
              "    .dataframe thead th {\n",
              "        text-align: right;\n",
              "    }\n",
              "</style>\n",
              "<table border=\"1\" class=\"dataframe\">\n",
              "  <thead>\n",
              "    <tr style=\"text-align: right;\">\n",
              "      <th></th>\n",
              "      <th>Area</th>\n",
              "      <th>Item</th>\n",
              "      <th>Year</th>\n",
              "      <th>hg/ha_yield</th>\n",
              "      <th>average_rain_fall_mm_per_year</th>\n",
              "      <th>pesticides_tonnes</th>\n",
              "      <th>avg_temp</th>\n",
              "    </tr>\n",
              "  </thead>\n",
              "  <tbody>\n",
              "    <tr>\n",
              "      <th>0</th>\n",
              "      <td>Albania</td>\n",
              "      <td>Maize</td>\n",
              "      <td>1990</td>\n",
              "      <td>36613</td>\n",
              "      <td>1485</td>\n",
              "      <td>121.0</td>\n",
              "      <td>16.37</td>\n",
              "    </tr>\n",
              "    <tr>\n",
              "      <th>1</th>\n",
              "      <td>Albania</td>\n",
              "      <td>Maize</td>\n",
              "      <td>1991</td>\n",
              "      <td>29068</td>\n",
              "      <td>1485</td>\n",
              "      <td>121.0</td>\n",
              "      <td>15.36</td>\n",
              "    </tr>\n",
              "    <tr>\n",
              "      <th>2</th>\n",
              "      <td>Albania</td>\n",
              "      <td>Maize</td>\n",
              "      <td>1992</td>\n",
              "      <td>24876</td>\n",
              "      <td>1485</td>\n",
              "      <td>121.0</td>\n",
              "      <td>16.06</td>\n",
              "    </tr>\n",
              "    <tr>\n",
              "      <th>3</th>\n",
              "      <td>Albania</td>\n",
              "      <td>Maize</td>\n",
              "      <td>1993</td>\n",
              "      <td>24185</td>\n",
              "      <td>1485</td>\n",
              "      <td>121.0</td>\n",
              "      <td>16.05</td>\n",
              "    </tr>\n",
              "    <tr>\n",
              "      <th>4</th>\n",
              "      <td>Albania</td>\n",
              "      <td>Maize</td>\n",
              "      <td>1994</td>\n",
              "      <td>25848</td>\n",
              "      <td>1485</td>\n",
              "      <td>201.0</td>\n",
              "      <td>16.96</td>\n",
              "    </tr>\n",
              "  </tbody>\n",
              "</table>\n",
              "</div>"
            ],
            "text/plain": [
              "      Area   Item  Year  hg/ha_yield average_rain_fall_mm_per_year  \\\n",
              "0  Albania  Maize  1990        36613                          1485   \n",
              "1  Albania  Maize  1991        29068                          1485   \n",
              "2  Albania  Maize  1992        24876                          1485   \n",
              "3  Albania  Maize  1993        24185                          1485   \n",
              "4  Albania  Maize  1994        25848                          1485   \n",
              "\n",
              "   pesticides_tonnes  avg_temp  \n",
              "0              121.0     16.37  \n",
              "1              121.0     15.36  \n",
              "2              121.0     16.06  \n",
              "3              121.0     16.05  \n",
              "4              201.0     16.96  "
            ]
          },
          "execution_count": 29,
          "metadata": {},
          "output_type": "execute_result"
        }
      ],
      "source": [
        "yield_df = pd.merge(yield_df,avg_temp, on=['Area','Year'])\n",
        "yield_df.head()"
      ]
    },
    {
      "cell_type": "code",
      "execution_count": 30,
      "metadata": {
        "colab": {
          "base_uri": "https://localhost:8080/"
        },
        "id": "Ryr7K5yLPbjS",
        "outputId": "339dd69c-a859-4095-96d5-7941339f92d0",
        "scrolled": false
      },
      "outputs": [
        {
          "data": {
            "text/plain": [
              "(28248, 7)"
            ]
          },
          "execution_count": 30,
          "metadata": {},
          "output_type": "execute_result"
        }
      ],
      "source": [
        "yield_df.shape"
      ]
    },
    {
      "cell_type": "code",
      "execution_count": 31,
      "metadata": {
        "colab": {
          "base_uri": "https://localhost:8080/"
        },
        "id": "vjUi5bA-PbjS",
        "outputId": "8e3ab95e-8387-4f3e-c942-3e678f107951"
      },
      "outputs": [
        {
          "data": {
            "text/html": [
              "<div>\n",
              "<style scoped>\n",
              "    .dataframe tbody tr th:only-of-type {\n",
              "        vertical-align: middle;\n",
              "    }\n",
              "\n",
              "    .dataframe tbody tr th {\n",
              "        vertical-align: top;\n",
              "    }\n",
              "\n",
              "    .dataframe thead th {\n",
              "        text-align: right;\n",
              "    }\n",
              "</style>\n",
              "<table border=\"1\" class=\"dataframe\">\n",
              "  <thead>\n",
              "    <tr style=\"text-align: right;\">\n",
              "      <th></th>\n",
              "      <th>Year</th>\n",
              "      <th>hg/ha_yield</th>\n",
              "      <th>pesticides_tonnes</th>\n",
              "      <th>avg_temp</th>\n",
              "    </tr>\n",
              "  </thead>\n",
              "  <tbody>\n",
              "    <tr>\n",
              "      <th>count</th>\n",
              "      <td>28248.000000</td>\n",
              "      <td>28248.000000</td>\n",
              "      <td>28248.000000</td>\n",
              "      <td>28248.000000</td>\n",
              "    </tr>\n",
              "    <tr>\n",
              "      <th>mean</th>\n",
              "      <td>2001.541950</td>\n",
              "      <td>77047.863282</td>\n",
              "      <td>37069.136973</td>\n",
              "      <td>20.543722</td>\n",
              "    </tr>\n",
              "    <tr>\n",
              "      <th>std</th>\n",
              "      <td>7.052997</td>\n",
              "      <td>84950.194454</td>\n",
              "      <td>59954.787836</td>\n",
              "      <td>6.311828</td>\n",
              "    </tr>\n",
              "    <tr>\n",
              "      <th>min</th>\n",
              "      <td>1990.000000</td>\n",
              "      <td>50.000000</td>\n",
              "      <td>0.040000</td>\n",
              "      <td>1.300000</td>\n",
              "    </tr>\n",
              "    <tr>\n",
              "      <th>25%</th>\n",
              "      <td>1995.000000</td>\n",
              "      <td>19918.750000</td>\n",
              "      <td>1695.710000</td>\n",
              "      <td>16.710000</td>\n",
              "    </tr>\n",
              "    <tr>\n",
              "      <th>50%</th>\n",
              "      <td>2001.000000</td>\n",
              "      <td>38295.000000</td>\n",
              "      <td>17517.760000</td>\n",
              "      <td>21.510000</td>\n",
              "    </tr>\n",
              "    <tr>\n",
              "      <th>75%</th>\n",
              "      <td>2008.000000</td>\n",
              "      <td>104598.250000</td>\n",
              "      <td>48687.880000</td>\n",
              "      <td>26.000000</td>\n",
              "    </tr>\n",
              "    <tr>\n",
              "      <th>max</th>\n",
              "      <td>2013.000000</td>\n",
              "      <td>501412.000000</td>\n",
              "      <td>367778.000000</td>\n",
              "      <td>30.650000</td>\n",
              "    </tr>\n",
              "  </tbody>\n",
              "</table>\n",
              "</div>"
            ],
            "text/plain": [
              "               Year    hg/ha_yield  pesticides_tonnes      avg_temp\n",
              "count  28248.000000   28248.000000       28248.000000  28248.000000\n",
              "mean    2001.541950   77047.863282       37069.136973     20.543722\n",
              "std        7.052997   84950.194454       59954.787836      6.311828\n",
              "min     1990.000000      50.000000           0.040000      1.300000\n",
              "25%     1995.000000   19918.750000        1695.710000     16.710000\n",
              "50%     2001.000000   38295.000000       17517.760000     21.510000\n",
              "75%     2008.000000  104598.250000       48687.880000     26.000000\n",
              "max     2013.000000  501412.000000      367778.000000     30.650000"
            ]
          },
          "execution_count": 31,
          "metadata": {},
          "output_type": "execute_result"
        }
      ],
      "source": [
        "yield_df.describe()"
      ]
    },
    {
      "cell_type": "code",
      "execution_count": 32,
      "metadata": {
        "colab": {
          "base_uri": "https://localhost:8080/"
        },
        "id": "tLVjtG1zPbjS",
        "outputId": "dd115a8e-316b-48df-d6e0-e002530c78d6",
        "scrolled": true
      },
      "outputs": [
        {
          "data": {
            "text/plain": [
              "Area                             0\n",
              "Item                             0\n",
              "Year                             0\n",
              "hg/ha_yield                      0\n",
              "average_rain_fall_mm_per_year    0\n",
              "pesticides_tonnes                0\n",
              "avg_temp                         0\n",
              "dtype: int64"
            ]
          },
          "execution_count": 32,
          "metadata": {},
          "output_type": "execute_result"
        }
      ],
      "source": [
        "yield_df.isnull().sum()"
      ]
    },
    {
      "cell_type": "markdown",
      "metadata": {
        "id": "MygR_E7DPbjS"
      },
      "source": [
        "# Section 2: Data Exploration\n",
        "yield_df is the final obtained dataframe, which has the following attributes:- \n",
        "* Area: country of production. \n",
        "* Item: type of crop.\n",
        "* Year: year of production.\n",
        "* Average_rain_fall_mm_per_year: Average amount of rain recorded that year.\n",
        "* Hg/ha_yield: country’s yearly production of the crop that year.\n",
        "* Pesticides_tonnes: Amount of pesticides used on the crop that year.\n",
        "* Avg_temp: Average temperature recorded for that year.\n",
        "\n",
        "\n",
        "\n"
      ]
    },
    {
      "cell_type": "code",
      "execution_count": 33,
      "metadata": {
        "colab": {
          "base_uri": "https://localhost:8080/"
        },
        "id": "DAzfYbP9PbjT",
        "outputId": "c3d5e91d-be0e-4ae1-8c8e-5f954b306051",
        "scrolled": true
      },
      "outputs": [
        {
          "data": {
            "text/html": [
              "<div>\n",
              "<style scoped>\n",
              "    .dataframe tbody tr th:only-of-type {\n",
              "        vertical-align: middle;\n",
              "    }\n",
              "\n",
              "    .dataframe tbody tr th {\n",
              "        vertical-align: top;\n",
              "    }\n",
              "\n",
              "    .dataframe thead th {\n",
              "        text-align: right;\n",
              "    }\n",
              "</style>\n",
              "<table border=\"1\" class=\"dataframe\">\n",
              "  <thead>\n",
              "    <tr style=\"text-align: right;\">\n",
              "      <th></th>\n",
              "      <th>Area</th>\n",
              "      <th>Year</th>\n",
              "      <th>hg/ha_yield</th>\n",
              "      <th>average_rain_fall_mm_per_year</th>\n",
              "      <th>pesticides_tonnes</th>\n",
              "      <th>avg_temp</th>\n",
              "    </tr>\n",
              "    <tr>\n",
              "      <th>Item</th>\n",
              "      <th></th>\n",
              "      <th></th>\n",
              "      <th></th>\n",
              "      <th></th>\n",
              "      <th></th>\n",
              "      <th></th>\n",
              "    </tr>\n",
              "  </thead>\n",
              "  <tbody>\n",
              "    <tr>\n",
              "      <th>Cassava</th>\n",
              "      <td>2047</td>\n",
              "      <td>2047</td>\n",
              "      <td>2047</td>\n",
              "      <td>2047</td>\n",
              "      <td>2047</td>\n",
              "      <td>2047</td>\n",
              "    </tr>\n",
              "    <tr>\n",
              "      <th>Maize</th>\n",
              "      <td>4123</td>\n",
              "      <td>4123</td>\n",
              "      <td>4123</td>\n",
              "      <td>4123</td>\n",
              "      <td>4123</td>\n",
              "      <td>4123</td>\n",
              "    </tr>\n",
              "    <tr>\n",
              "      <th>Plantains and others</th>\n",
              "      <td>556</td>\n",
              "      <td>556</td>\n",
              "      <td>556</td>\n",
              "      <td>556</td>\n",
              "      <td>556</td>\n",
              "      <td>556</td>\n",
              "    </tr>\n",
              "    <tr>\n",
              "      <th>Potatoes</th>\n",
              "      <td>4276</td>\n",
              "      <td>4276</td>\n",
              "      <td>4276</td>\n",
              "      <td>4276</td>\n",
              "      <td>4276</td>\n",
              "      <td>4276</td>\n",
              "    </tr>\n",
              "    <tr>\n",
              "      <th>Rice, paddy</th>\n",
              "      <td>3388</td>\n",
              "      <td>3388</td>\n",
              "      <td>3388</td>\n",
              "      <td>3388</td>\n",
              "      <td>3388</td>\n",
              "      <td>3388</td>\n",
              "    </tr>\n",
              "    <tr>\n",
              "      <th>Sorghum</th>\n",
              "      <td>3039</td>\n",
              "      <td>3039</td>\n",
              "      <td>3039</td>\n",
              "      <td>3039</td>\n",
              "      <td>3039</td>\n",
              "      <td>3039</td>\n",
              "    </tr>\n",
              "    <tr>\n",
              "      <th>Soybeans</th>\n",
              "      <td>3223</td>\n",
              "      <td>3223</td>\n",
              "      <td>3223</td>\n",
              "      <td>3223</td>\n",
              "      <td>3223</td>\n",
              "      <td>3223</td>\n",
              "    </tr>\n",
              "    <tr>\n",
              "      <th>Sweet potatoes</th>\n",
              "      <td>2892</td>\n",
              "      <td>2892</td>\n",
              "      <td>2892</td>\n",
              "      <td>2892</td>\n",
              "      <td>2892</td>\n",
              "      <td>2892</td>\n",
              "    </tr>\n",
              "    <tr>\n",
              "      <th>Wheat</th>\n",
              "      <td>3857</td>\n",
              "      <td>3857</td>\n",
              "      <td>3857</td>\n",
              "      <td>3857</td>\n",
              "      <td>3857</td>\n",
              "      <td>3857</td>\n",
              "    </tr>\n",
              "    <tr>\n",
              "      <th>Yams</th>\n",
              "      <td>847</td>\n",
              "      <td>847</td>\n",
              "      <td>847</td>\n",
              "      <td>847</td>\n",
              "      <td>847</td>\n",
              "      <td>847</td>\n",
              "    </tr>\n",
              "  </tbody>\n",
              "</table>\n",
              "</div>"
            ],
            "text/plain": [
              "                      Area  Year  hg/ha_yield  average_rain_fall_mm_per_year  \\\n",
              "Item                                                                           \n",
              "Cassava               2047  2047         2047                           2047   \n",
              "Maize                 4123  4123         4123                           4123   \n",
              "Plantains and others   556   556          556                            556   \n",
              "Potatoes              4276  4276         4276                           4276   \n",
              "Rice, paddy           3388  3388         3388                           3388   \n",
              "Sorghum               3039  3039         3039                           3039   \n",
              "Soybeans              3223  3223         3223                           3223   \n",
              "Sweet potatoes        2892  2892         2892                           2892   \n",
              "Wheat                 3857  3857         3857                           3857   \n",
              "Yams                   847   847          847                            847   \n",
              "\n",
              "                      pesticides_tonnes  avg_temp  \n",
              "Item                                               \n",
              "Cassava                            2047      2047  \n",
              "Maize                              4123      4123  \n",
              "Plantains and others                556       556  \n",
              "Potatoes                           4276      4276  \n",
              "Rice, paddy                        3388      3388  \n",
              "Sorghum                            3039      3039  \n",
              "Soybeans                           3223      3223  \n",
              "Sweet potatoes                     2892      2892  \n",
              "Wheat                              3857      3857  \n",
              "Yams                                847       847  "
            ]
          },
          "execution_count": 33,
          "metadata": {},
          "output_type": "execute_result"
        }
      ],
      "source": [
        "yield_df.groupby('Item').count()"
      ]
    },
    {
      "cell_type": "code",
      "execution_count": 34,
      "metadata": {
        "colab": {
          "base_uri": "https://localhost:8080/"
        },
        "id": "uIWXMGgpPbjT",
        "outputId": "20bec566-363c-468b-9ed1-54dba2cc86a8",
        "scrolled": false
      },
      "outputs": [
        {
          "data": {
            "text/html": [
              "<div>\n",
              "<style scoped>\n",
              "    .dataframe tbody tr th:only-of-type {\n",
              "        vertical-align: middle;\n",
              "    }\n",
              "\n",
              "    .dataframe tbody tr th {\n",
              "        vertical-align: top;\n",
              "    }\n",
              "\n",
              "    .dataframe thead th {\n",
              "        text-align: right;\n",
              "    }\n",
              "</style>\n",
              "<table border=\"1\" class=\"dataframe\">\n",
              "  <thead>\n",
              "    <tr style=\"text-align: right;\">\n",
              "      <th></th>\n",
              "      <th>Year</th>\n",
              "      <th>hg/ha_yield</th>\n",
              "      <th>pesticides_tonnes</th>\n",
              "      <th>avg_temp</th>\n",
              "    </tr>\n",
              "  </thead>\n",
              "  <tbody>\n",
              "    <tr>\n",
              "      <th>count</th>\n",
              "      <td>28248.000000</td>\n",
              "      <td>28248.000000</td>\n",
              "      <td>28248.000000</td>\n",
              "      <td>28248.000000</td>\n",
              "    </tr>\n",
              "    <tr>\n",
              "      <th>mean</th>\n",
              "      <td>2001.541950</td>\n",
              "      <td>77047.863282</td>\n",
              "      <td>37069.136973</td>\n",
              "      <td>20.543722</td>\n",
              "    </tr>\n",
              "    <tr>\n",
              "      <th>std</th>\n",
              "      <td>7.052997</td>\n",
              "      <td>84950.194454</td>\n",
              "      <td>59954.787836</td>\n",
              "      <td>6.311828</td>\n",
              "    </tr>\n",
              "    <tr>\n",
              "      <th>min</th>\n",
              "      <td>1990.000000</td>\n",
              "      <td>50.000000</td>\n",
              "      <td>0.040000</td>\n",
              "      <td>1.300000</td>\n",
              "    </tr>\n",
              "    <tr>\n",
              "      <th>25%</th>\n",
              "      <td>1995.000000</td>\n",
              "      <td>19918.750000</td>\n",
              "      <td>1695.710000</td>\n",
              "      <td>16.710000</td>\n",
              "    </tr>\n",
              "    <tr>\n",
              "      <th>50%</th>\n",
              "      <td>2001.000000</td>\n",
              "      <td>38295.000000</td>\n",
              "      <td>17517.760000</td>\n",
              "      <td>21.510000</td>\n",
              "    </tr>\n",
              "    <tr>\n",
              "      <th>75%</th>\n",
              "      <td>2008.000000</td>\n",
              "      <td>104598.250000</td>\n",
              "      <td>48687.880000</td>\n",
              "      <td>26.000000</td>\n",
              "    </tr>\n",
              "    <tr>\n",
              "      <th>max</th>\n",
              "      <td>2013.000000</td>\n",
              "      <td>501412.000000</td>\n",
              "      <td>367778.000000</td>\n",
              "      <td>30.650000</td>\n",
              "    </tr>\n",
              "  </tbody>\n",
              "</table>\n",
              "</div>"
            ],
            "text/plain": [
              "               Year    hg/ha_yield  pesticides_tonnes      avg_temp\n",
              "count  28248.000000   28248.000000       28248.000000  28248.000000\n",
              "mean    2001.541950   77047.863282       37069.136973     20.543722\n",
              "std        7.052997   84950.194454       59954.787836      6.311828\n",
              "min     1990.000000      50.000000           0.040000      1.300000\n",
              "25%     1995.000000   19918.750000        1695.710000     16.710000\n",
              "50%     2001.000000   38295.000000       17517.760000     21.510000\n",
              "75%     2008.000000  104598.250000       48687.880000     26.000000\n",
              "max     2013.000000  501412.000000      367778.000000     30.650000"
            ]
          },
          "execution_count": 34,
          "metadata": {},
          "output_type": "execute_result"
        }
      ],
      "source": [
        "yield_df.describe()"
      ]
    },
    {
      "cell_type": "markdown",
      "metadata": {
        "id": "qtG2Jz3wPbjT"
      },
      "source": [
        "There is high variance in the values for each columns, we will tackle this issue with scaling in the preprocessing section. "
      ]
    },
    {
      "cell_type": "code",
      "execution_count": 35,
      "metadata": {
        "colab": {
          "base_uri": "https://localhost:8080/"
        },
        "id": "8WYsTWlOPbjT",
        "outputId": "55dd3404-7951-4e19-e03a-3640eea4d4e6",
        "scrolled": false
      },
      "outputs": [
        {
          "data": {
            "text/plain": [
              "101"
            ]
          },
          "execution_count": 35,
          "metadata": {},
          "output_type": "execute_result"
        }
      ],
      "source": [
        "yield_df['Area'].nunique()"
      ]
    },
    {
      "cell_type": "markdown",
      "metadata": {
        "id": "0g1C4kxfPbjT"
      },
      "source": [
        "The dataframe has 101 Countries, ordering these by 10 the highest yield production: "
      ]
    },
    {
      "cell_type": "code",
      "execution_count": 36,
      "metadata": {
        "colab": {
          "base_uri": "https://localhost:8080/"
        },
        "id": "gmlVasLpPbjT",
        "outputId": "b22472f3-19bb-4357-b7da-51f32da51206",
        "scrolled": true
      },
      "outputs": [
        {
          "data": {
            "text/plain": [
              "Area\n",
              "India             327420324\n",
              "Brazil            167550306\n",
              "Mexico            130788528\n",
              "Japan             124470912\n",
              "Australia         109111062\n",
              "Pakistan           73897434\n",
              "Indonesia          69193506\n",
              "United Kingdom     55419990\n",
              "Turkey             52263950\n",
              "Spain              46773540\n",
              "Name: hg/ha_yield, dtype: int64"
            ]
          },
          "execution_count": 36,
          "metadata": {},
          "output_type": "execute_result"
        }
      ],
      "source": [
        "yield_df.groupby(['Area'],sort=True)['hg/ha_yield'].sum().nlargest(10)"
      ]
    },
    {
      "cell_type": "markdown",
      "metadata": {
        "id": "9AnFz__FPbjT"
      },
      "source": [
        "India has the highest yield production in the dataset. Inclusing items in the groupby:"
      ]
    },
    {
      "cell_type": "code",
      "execution_count": 37,
      "metadata": {
        "colab": {
          "base_uri": "https://localhost:8080/"
        },
        "id": "o7B037BdPbjU",
        "outputId": "e3dcb6a4-7f33-43fd-8c37-6cde151175ce",
        "scrolled": true
      },
      "outputs": [
        {
          "data": {
            "text/plain": [
              "Item            Area          \n",
              "Cassava         India             142810624\n",
              "Potatoes        India              92122514\n",
              "                Brazil             49602168\n",
              "                United Kingdom     46705145\n",
              "                Australia          45670386\n",
              "Sweet potatoes  India              44439538\n",
              "Potatoes        Japan              42918726\n",
              "                Mexico             42053880\n",
              "Sweet potatoes  Mexico             35808592\n",
              "                Australia          35550294\n",
              "Name: hg/ha_yield, dtype: int64"
            ]
          },
          "execution_count": 37,
          "metadata": {},
          "output_type": "execute_result"
        }
      ],
      "source": [
        "yield_df.groupby(['Item','Area'],sort=True)['hg/ha_yield'].sum().nlargest(10)"
      ]
    },
    {
      "cell_type": "markdown",
      "metadata": {
        "id": "l2wl6ebsPbjU"
      },
      "source": [
        "India is the highest for production of cassava and potatoes. Potatoes seems to be the dominated crop in the dataset, being the highest in 4 countries. "
      ]
    },
    {
      "cell_type": "markdown",
      "metadata": {
        "id": "Zwkr2DA-PbjU"
      },
      "source": [
        "The final dataframe starts from 1990 and ends in 2013, that's 23 years worth of data for 101 countries. "
      ]
    },
    {
      "cell_type": "markdown",
      "metadata": {
        "id": "0FbuCOtePbjU"
      },
      "source": [
        "Now, exploring the relationships between the columns of the dataframe"
      ]
    },
    {
      "cell_type": "code",
      "execution_count": 38,
      "metadata": {
        "id": "5scpECzmPbjU"
      },
      "outputs": [],
      "source": [
        "import sklearn\n",
        "import seaborn as sns\n",
        "import matplotlib.pyplot as plt"
      ]
    },
    {
      "cell_type": "code",
      "execution_count": 39,
      "metadata": {
        "colab": {
          "base_uri": "https://localhost:8080/"
        },
        "id": "Y8WXlYv1PbjU",
        "outputId": "53a4e9cc-627a-4a2c-c891-1f59c2ffc1f6",
        "scrolled": false
      },
      "outputs": [
        {
          "data": {
            "image/png": "[encoded data removed]",
            "text/plain": [
              "<Figure size 1100x900 with 2 Axes>"
            ]
          },
          "metadata": {},
          "output_type": "display_data"
        }
      ],
      "source": [
        "correlation_data=yield_df.select_dtypes(include=[np.number]).corr()\n",
        "\n",
        "mask = np.zeros_like(correlation_data, dtype=np.bool)\n",
        "mask[np.triu_indices_from(mask)] = True\n",
        "\n",
        "f, ax = plt.subplots(figsize=(11, 9))\n",
        "cmap = sns.palette=\"vlag\"\n",
        "sns.heatmap(correlation_data, mask=mask, cmap=cmap, vmax=.3, center=0,\n",
        "            square=True, linewidths=.5, cbar_kws={\"shrink\": .5});"
      ]
    },
    {
      "cell_type": "markdown",
      "metadata": {
        "id": "QjPfB7ySPbjU"
      },
      "source": [
        "It can be seen from the above correlation map that there is no correlation between any of the colmuns in the dataframe. "
      ]
    },
    {
      "cell_type": "markdown",
      "metadata": {
        "id": "T-MuzzDGPbjU"
      },
      "source": [
        "# Section 3: Data Preprocessing"
      ]
    },
    {
      "cell_type": "code",
      "execution_count": 40,
      "metadata": {
        "colab": {
          "base_uri": "https://localhost:8080/"
        },
        "id": "9CH5KBzbPbjV",
        "outputId": "6b6bddbe-76c2-4a8e-e3ab-3acf3861650d",
        "scrolled": true
      },
      "outputs": [
        {
          "data": {
            "text/html": [
              "<div>\n",
              "<style scoped>\n",
              "    .dataframe tbody tr th:only-of-type {\n",
              "        vertical-align: middle;\n",
              "    }\n",
              "\n",
              "    .dataframe tbody tr th {\n",
              "        vertical-align: top;\n",
              "    }\n",
              "\n",
              "    .dataframe thead th {\n",
              "        text-align: right;\n",
              "    }\n",
              "</style>\n",
              "<table border=\"1\" class=\"dataframe\">\n",
              "  <thead>\n",
              "    <tr style=\"text-align: right;\">\n",
              "      <th></th>\n",
              "      <th>Area</th>\n",
              "      <th>Item</th>\n",
              "      <th>Year</th>\n",
              "      <th>hg/ha_yield</th>\n",
              "      <th>average_rain_fall_mm_per_year</th>\n",
              "      <th>pesticides_tonnes</th>\n",
              "      <th>avg_temp</th>\n",
              "    </tr>\n",
              "  </thead>\n",
              "  <tbody>\n",
              "    <tr>\n",
              "      <th>0</th>\n",
              "      <td>Albania</td>\n",
              "      <td>Maize</td>\n",
              "      <td>1990</td>\n",
              "      <td>36613</td>\n",
              "      <td>1485</td>\n",
              "      <td>121.0</td>\n",
              "      <td>16.37</td>\n",
              "    </tr>\n",
              "    <tr>\n",
              "      <th>1</th>\n",
              "      <td>Albania</td>\n",
              "      <td>Maize</td>\n",
              "      <td>1991</td>\n",
              "      <td>29068</td>\n",
              "      <td>1485</td>\n",
              "      <td>121.0</td>\n",
              "      <td>15.36</td>\n",
              "    </tr>\n",
              "    <tr>\n",
              "      <th>2</th>\n",
              "      <td>Albania</td>\n",
              "      <td>Maize</td>\n",
              "      <td>1992</td>\n",
              "      <td>24876</td>\n",
              "      <td>1485</td>\n",
              "      <td>121.0</td>\n",
              "      <td>16.06</td>\n",
              "    </tr>\n",
              "    <tr>\n",
              "      <th>3</th>\n",
              "      <td>Albania</td>\n",
              "      <td>Maize</td>\n",
              "      <td>1993</td>\n",
              "      <td>24185</td>\n",
              "      <td>1485</td>\n",
              "      <td>121.0</td>\n",
              "      <td>16.05</td>\n",
              "    </tr>\n",
              "    <tr>\n",
              "      <th>4</th>\n",
              "      <td>Albania</td>\n",
              "      <td>Maize</td>\n",
              "      <td>1994</td>\n",
              "      <td>25848</td>\n",
              "      <td>1485</td>\n",
              "      <td>201.0</td>\n",
              "      <td>16.96</td>\n",
              "    </tr>\n",
              "  </tbody>\n",
              "</table>\n",
              "</div>"
            ],
            "text/plain": [
              "      Area   Item  Year  hg/ha_yield average_rain_fall_mm_per_year  \\\n",
              "0  Albania  Maize  1990        36613                          1485   \n",
              "1  Albania  Maize  1991        29068                          1485   \n",
              "2  Albania  Maize  1992        24876                          1485   \n",
              "3  Albania  Maize  1993        24185                          1485   \n",
              "4  Albania  Maize  1994        25848                          1485   \n",
              "\n",
              "   pesticides_tonnes  avg_temp  \n",
              "0              121.0     16.37  \n",
              "1              121.0     15.36  \n",
              "2              121.0     16.06  \n",
              "3              121.0     16.05  \n",
              "4              201.0     16.96  "
            ]
          },
          "execution_count": 40,
          "metadata": {},
          "output_type": "execute_result"
        }
      ],
      "source": [
        "yield_df.head()"
      ]
    },
    {
      "cell_type": "markdown",
      "metadata": {
        "id": "MIRCZxyjPbjV"
      },
      "source": [
        "### Encoding Categorical Variables:\n",
        "There are two categorical columns in the dataframe, and we will use One-Hot Encoding to convert these two columns to one-hot numeric array.\n",
        "The categorical value represents the numerical value of the entry in the dataset. This encoding will create a binary column for each category and returns a matrix with the results. \n"
      ]
    },
    {
      "cell_type": "code",
      "execution_count": 41,
      "metadata": {
        "id": "sJDRfAIaPbjV"
      },
      "outputs": [],
      "source": [
        "from sklearn.preprocessing import OneHotEncoder"
      ]
    },
    {
      "cell_type": "code",
      "execution_count": 42,
      "metadata": {
        "colab": {
          "base_uri": "https://localhost:8080/"
        },
        "id": "3OtpF80LPbjV",
        "outputId": "a7ab6f80-9047-45c4-ba18-4a99f13846d7"
      },
      "outputs": [
        {
          "data": {
            "text/html": [
              "<div>\n",
              "<style scoped>\n",
              "    .dataframe tbody tr th:only-of-type {\n",
              "        vertical-align: middle;\n",
              "    }\n",
              "\n",
              "    .dataframe tbody tr th {\n",
              "        vertical-align: top;\n",
              "    }\n",
              "\n",
              "    .dataframe thead th {\n",
              "        text-align: right;\n",
              "    }\n",
              "</style>\n",
              "<table border=\"1\" class=\"dataframe\">\n",
              "  <thead>\n",
              "    <tr style=\"text-align: right;\">\n",
              "      <th></th>\n",
              "      <th>Year</th>\n",
              "      <th>average_rain_fall_mm_per_year</th>\n",
              "      <th>pesticides_tonnes</th>\n",
              "      <th>avg_temp</th>\n",
              "      <th>Country_Albania</th>\n",
              "      <th>Country_Algeria</th>\n",
              "      <th>Country_Angola</th>\n",
              "      <th>Country_Argentina</th>\n",
              "      <th>Country_Armenia</th>\n",
              "      <th>Country_Australia</th>\n",
              "      <th>...</th>\n",
              "      <th>Item_Cassava</th>\n",
              "      <th>Item_Maize</th>\n",
              "      <th>Item_Plantains and others</th>\n",
              "      <th>Item_Potatoes</th>\n",
              "      <th>Item_Rice, paddy</th>\n",
              "      <th>Item_Sorghum</th>\n",
              "      <th>Item_Soybeans</th>\n",
              "      <th>Item_Sweet potatoes</th>\n",
              "      <th>Item_Wheat</th>\n",
              "      <th>Item_Yams</th>\n",
              "    </tr>\n",
              "  </thead>\n",
              "  <tbody>\n",
              "    <tr>\n",
              "      <th>0</th>\n",
              "      <td>1990</td>\n",
              "      <td>1485</td>\n",
              "      <td>121.0</td>\n",
              "      <td>16.37</td>\n",
              "      <td>True</td>\n",
              "      <td>False</td>\n",
              "      <td>False</td>\n",
              "      <td>False</td>\n",
              "      <td>False</td>\n",
              "      <td>False</td>\n",
              "      <td>...</td>\n",
              "      <td>False</td>\n",
              "      <td>True</td>\n",
              "      <td>False</td>\n",
              "      <td>False</td>\n",
              "      <td>False</td>\n",
              "      <td>False</td>\n",
              "      <td>False</td>\n",
              "      <td>False</td>\n",
              "      <td>False</td>\n",
              "      <td>False</td>\n",
              "    </tr>\n",
              "    <tr>\n",
              "      <th>1</th>\n",
              "      <td>1991</td>\n",
              "      <td>1485</td>\n",
              "      <td>121.0</td>\n",
              "      <td>15.36</td>\n",
              "      <td>True</td>\n",
              "      <td>False</td>\n",
              "      <td>False</td>\n",
              "      <td>False</td>\n",
              "      <td>False</td>\n",
              "      <td>False</td>\n",
              "      <td>...</td>\n",
              "      <td>False</td>\n",
              "      <td>True</td>\n",
              "      <td>False</td>\n",
              "      <td>False</td>\n",
              "      <td>False</td>\n",
              "      <td>False</td>\n",
              "      <td>False</td>\n",
              "      <td>False</td>\n",
              "      <td>False</td>\n",
              "      <td>False</td>\n",
              "    </tr>\n",
              "    <tr>\n",
              "      <th>2</th>\n",
              "      <td>1992</td>\n",
              "      <td>1485</td>\n",
              "      <td>121.0</td>\n",
              "      <td>16.06</td>\n",
              "      <td>True</td>\n",
              "      <td>False</td>\n",
              "      <td>False</td>\n",
              "      <td>False</td>\n",
              "      <td>False</td>\n",
              "      <td>False</td>\n",
              "      <td>...</td>\n",
              "      <td>False</td>\n",
              "      <td>True</td>\n",
              "      <td>False</td>\n",
              "      <td>False</td>\n",
              "      <td>False</td>\n",
              "      <td>False</td>\n",
              "      <td>False</td>\n",
              "      <td>False</td>\n",
              "      <td>False</td>\n",
              "      <td>False</td>\n",
              "    </tr>\n",
              "    <tr>\n",
              "      <th>3</th>\n",
              "      <td>1993</td>\n",
              "      <td>1485</td>\n",
              "      <td>121.0</td>\n",
              "      <td>16.05</td>\n",
              "      <td>True</td>\n",
              "      <td>False</td>\n",
              "      <td>False</td>\n",
              "      <td>False</td>\n",
              "      <td>False</td>\n",
              "      <td>False</td>\n",
              "      <td>...</td>\n",
              "      <td>False</td>\n",
              "      <td>True</td>\n",
              "      <td>False</td>\n",
              "      <td>False</td>\n",
              "      <td>False</td>\n",
              "      <td>False</td>\n",
              "      <td>False</td>\n",
              "      <td>False</td>\n",
              "      <td>False</td>\n",
              "      <td>False</td>\n",
              "    </tr>\n",
              "    <tr>\n",
              "      <th>4</th>\n",
              "      <td>1994</td>\n",
              "      <td>1485</td>\n",
              "      <td>201.0</td>\n",
              "      <td>16.96</td>\n",
              "      <td>True</td>\n",
              "      <td>False</td>\n",
              "      <td>False</td>\n",
              "      <td>False</td>\n",
              "      <td>False</td>\n",
              "      <td>False</td>\n",
              "      <td>...</td>\n",
              "      <td>False</td>\n",
              "      <td>True</td>\n",
              "      <td>False</td>\n",
              "      <td>False</td>\n",
              "      <td>False</td>\n",
              "      <td>False</td>\n",
              "      <td>False</td>\n",
              "      <td>False</td>\n",
              "      <td>False</td>\n",
              "      <td>False</td>\n",
              "    </tr>\n",
              "  </tbody>\n",
              "</table>\n",
              "<p>5 rows × 115 columns</p>\n",
              "</div>"
            ],
            "text/plain": [
              "   Year average_rain_fall_mm_per_year  pesticides_tonnes  avg_temp  \\\n",
              "0  1990                          1485              121.0     16.37   \n",
              "1  1991                          1485              121.0     15.36   \n",
              "2  1992                          1485              121.0     16.06   \n",
              "3  1993                          1485              121.0     16.05   \n",
              "4  1994                          1485              201.0     16.96   \n",
              "\n",
              "   Country_Albania  Country_Algeria  Country_Angola  Country_Argentina  \\\n",
              "0             True            False           False              False   \n",
              "1             True            False           False              False   \n",
              "2             True            False           False              False   \n",
              "3             True            False           False              False   \n",
              "4             True            False           False              False   \n",
              "\n",
              "   Country_Armenia  Country_Australia  ...  Item_Cassava  Item_Maize  \\\n",
              "0            False              False  ...         False        True   \n",
              "1            False              False  ...         False        True   \n",
              "2            False              False  ...         False        True   \n",
              "3            False              False  ...         False        True   \n",
              "4            False              False  ...         False        True   \n",
              "\n",
              "   Item_Plantains and others  Item_Potatoes  Item_Rice, paddy  Item_Sorghum  \\\n",
              "0                      False          False             False         False   \n",
              "1                      False          False             False         False   \n",
              "2                      False          False             False         False   \n",
              "3                      False          False             False         False   \n",
              "4                      False          False             False         False   \n",
              "\n",
              "   Item_Soybeans  Item_Sweet potatoes  Item_Wheat  Item_Yams  \n",
              "0          False                False       False      False  \n",
              "1          False                False       False      False  \n",
              "2          False                False       False      False  \n",
              "3          False                False       False      False  \n",
              "4          False                False       False      False  \n",
              "\n",
              "[5 rows x 115 columns]"
            ]
          },
          "execution_count": 42,
          "metadata": {},
          "output_type": "execute_result"
        }
      ],
      "source": [
        "yield_df_onehot = pd.get_dummies(yield_df, columns=['Area',\"Item\"], prefix = ['Country',\"Item\"])\n",
        "features=yield_df_onehot.loc[:, yield_df_onehot.columns != 'hg/ha_yield']\n",
        "label=yield_df['hg/ha_yield']\n",
        "features.head()"
      ]
    },
    {
      "cell_type": "code",
      "execution_count": 43,
      "metadata": {
        "id": "Gsz56-NYPbjV"
      },
      "outputs": [
        {
          "name": "stdout",
          "output_type": "stream",
          "text": [
            "Index(['average_rain_fall_mm_per_year', 'pesticides_tonnes', 'avg_temp',\n",
            "       'Country_Albania', 'Country_Algeria', 'Country_Angola',\n",
            "       'Country_Argentina', 'Country_Armenia', 'Country_Australia',\n",
            "       'Country_Austria',\n",
            "       ...\n",
            "       'Item_Cassava', 'Item_Maize', 'Item_Plantains and others',\n",
            "       'Item_Potatoes', 'Item_Rice, paddy', 'Item_Sorghum', 'Item_Soybeans',\n",
            "       'Item_Sweet potatoes', 'Item_Wheat', 'Item_Yams'],\n",
            "      dtype='object', length=114)\n"
          ]
        }
      ],
      "source": [
        " # Verify 'Year' exists\n",
        "if 'Year' in features.columns:\n",
        "    features = features.drop('Year', axis=1)\n",
        "print(features.columns) \n"
      ]
    },
    {
      "cell_type": "code",
      "execution_count": 44,
      "metadata": {
        "colab": {
          "base_uri": "https://localhost:8080/"
        },
        "id": "7dTr26K1PbjV",
        "outputId": "70df4bcc-65dc-40d0-8423-45aa77e238e0",
        "scrolled": true
      },
      "outputs": [
        {
          "name": "stdout",
          "output_type": "stream",
          "text": [
            "<class 'pandas.core.frame.DataFrame'>\n",
            "RangeIndex: 28248 entries, 0 to 28247\n",
            "Columns: 114 entries, average_rain_fall_mm_per_year to Item_Yams\n",
            "dtypes: bool(111), float64(2), string(1)\n",
            "memory usage: 3.6 MB\n"
          ]
        }
      ],
      "source": [
        "features.info()"
      ]
    },
    {
      "cell_type": "markdown",
      "metadata": {
        "id": "qtznQ0A8PbjW"
      },
      "source": [
        "\n",
        "### Scaling Features: \n",
        "\n",
        "As seen in the data exploration section, the final dataframe contains features highly varying in magnitudes, units and range. The features with high magnitudes will weigh in a lot more in the distance calculations than features with low magnitudes. To supress this effect, we need to bring all features to the same level of magnitudes. This can be acheived by scaling."
      ]
    },
    {
      "cell_type": "code",
      "execution_count": 45,
      "metadata": {},
      "outputs": [
        {
          "name": "stdout",
          "output_type": "stream",
          "text": [
            "average_rain_fall_mm_per_year    string[python]\n",
            "pesticides_tonnes                       float64\n",
            "avg_temp                                float64\n",
            "Country_Albania                            bool\n",
            "Country_Algeria                            bool\n",
            "                                      ...      \n",
            "Item_Sorghum                               bool\n",
            "Item_Soybeans                              bool\n",
            "Item_Sweet potatoes                        bool\n",
            "Item_Wheat                                 bool\n",
            "Item_Yams                                  bool\n",
            "Length: 114, dtype: object\n"
          ]
        }
      ],
      "source": [
        "print(features.dtypes)  # Inspect column types"
      ]
    },
    {
      "cell_type": "code",
      "execution_count": 46,
      "metadata": {},
      "outputs": [
        {
          "name": "stdout",
          "output_type": "stream",
          "text": [
            "Index(['Country_Albania', 'Country_Algeria', 'Country_Angola',\n",
            "       'Country_Argentina', 'Country_Armenia', 'Country_Australia',\n",
            "       'Country_Austria', 'Country_Azerbaijan', 'Country_Bahamas',\n",
            "       'Country_Bahrain',\n",
            "       ...\n",
            "       'Item_Cassava', 'Item_Maize', 'Item_Plantains and others',\n",
            "       'Item_Potatoes', 'Item_Rice, paddy', 'Item_Sorghum', 'Item_Soybeans',\n",
            "       'Item_Sweet potatoes', 'Item_Wheat', 'Item_Yams'],\n",
            "      dtype='object', length=111)\n"
          ]
        }
      ],
      "source": [
        "# Find columns with strings\n",
        "non_numeric = features.select_dtypes(include=['object', 'bool']).columns\n",
        "print(non_numeric)"
      ]
    },
    {
      "cell_type": "code",
      "execution_count": 47,
      "metadata": {},
      "outputs": [
        {
          "name": "stdout",
          "output_type": "stream",
          "text": [
            "average_rain_fall_mm_per_year      Int64\n",
            "pesticides_tonnes                float64\n",
            "avg_temp                         float64\n",
            "Country_Albania                    int64\n",
            "Country_Algeria                    int64\n",
            "                                  ...   \n",
            "Item_Sorghum                       int64\n",
            "Item_Soybeans                      int64\n",
            "Item_Sweet potatoes                int64\n",
            "Item_Wheat                         int64\n",
            "Item_Yams                          int64\n",
            "Length: 114, dtype: object\n"
          ]
        }
      ],
      "source": [
        "features['average_rain_fall_mm_per_year'] = pd.to_numeric(\n",
        "    features['average_rain_fall_mm_per_year'], \n",
        "    errors='coerce'  # Converts invalid strings to NaN\n",
        ")\n",
        "# Convert all boolean columns to integers\n",
        "bool_cols = features.select_dtypes(include='bool').columns\n",
        "features[bool_cols] = features[bool_cols].astype(int)\n",
        "print(features.dtypes)    "
      ]
    },
    {
      "cell_type": "code",
      "execution_count": 48,
      "metadata": {
        "id": "B0LE0YztPbjW"
      },
      "outputs": [],
      "source": [
        "from sklearn.preprocessing import MinMaxScaler\n",
        "scaler=MinMaxScaler()\n",
        "features=scaler.fit_transform(features)\n"
      ]
    },
    {
      "cell_type": "markdown",
      "metadata": {
        "id": "7OFaAm1lPbjW"
      },
      "source": [
        "After dropping year column in addition to scaling all values in features, the resulting array will look something like this : "
      ]
    },
    {
      "cell_type": "code",
      "execution_count": 49,
      "metadata": {},
      "outputs": [
        {
          "data": {
            "text/plain": [
              "0        36613\n",
              "1        29068\n",
              "2        24876\n",
              "3        24185\n",
              "4        25848\n",
              "         ...  \n",
              "28243    30000\n",
              "28244    27681\n",
              "28245    26274\n",
              "28246    24420\n",
              "28247    22888\n",
              "Name: hg/ha_yield, Length: 28248, dtype: int64"
            ]
          },
          "execution_count": 49,
          "metadata": {},
          "output_type": "execute_result"
        }
      ],
      "source": [
        "import numpy as np\n",
        "\n",
        "# Find rows WITHOUT any NaN values\n",
        "non_nan_mask = ~np.isnan(features).any(axis=1)\n",
        "\n",
        "# Filter features and labels\n",
        "features_clean = features[non_nan_mask]\n",
        "label_clean = label[non_nan_mask]\n",
        "\n",
        "label"
      ]
    },
    {
      "cell_type": "code",
      "execution_count": 50,
      "metadata": {
        "colab": {
          "base_uri": "https://localhost:8080/"
        },
        "id": "Jk6CDe7qPbjW",
        "outputId": "8118dc0c-704b-49b9-80f6-4cd14c4626d1",
        "scrolled": false
      },
      "outputs": [
        {
          "data": {
            "text/plain": [
              "array([[4.49670743e-01, 3.28894097e-04, 5.13458262e-01, ...,\n",
              "        0.00000000e+00, 0.00000000e+00, 0.00000000e+00],\n",
              "       [4.49670743e-01, 3.28894097e-04, 4.79045997e-01, ...,\n",
              "        0.00000000e+00, 0.00000000e+00, 0.00000000e+00],\n",
              "       [4.49670743e-01, 3.28894097e-04, 5.02896082e-01, ...,\n",
              "        0.00000000e+00, 0.00000000e+00, 0.00000000e+00],\n",
              "       ...,\n",
              "       [1.90028222e-01, 9.08240940e-03, 6.63713799e-01, ...,\n",
              "        0.00000000e+00, 1.00000000e+00, 0.00000000e+00],\n",
              "       [1.90028222e-01, 9.17806494e-03, 6.54855196e-01, ...,\n",
              "        0.00000000e+00, 1.00000000e+00, 0.00000000e+00],\n",
              "       [1.90028222e-01, 6.93361288e-03, 6.28960818e-01, ...,\n",
              "        0.00000000e+00, 1.00000000e+00, 0.00000000e+00]])"
            ]
          },
          "execution_count": 50,
          "metadata": {},
          "output_type": "execute_result"
        }
      ],
      "source": [
        "features"
      ]
    },
    {
      "cell_type": "markdown",
      "metadata": {
        "id": "kWUQGX28PbjW"
      },
      "source": [
        "## Training Data: \n",
        "\n",
        "The dataset will be split to two datasets, the training dataset and test dataset.\n",
        "\n"
      ]
    },
    {
      "cell_type": "code",
      "execution_count": 51,
      "metadata": {
        "id": "WQTWUwjTPbjW"
      },
      "outputs": [],
      "source": [
        "from sklearn.model_selection import train_test_split\n",
        "train_data, test_data, train_labels, test_labels = train_test_split(features, label, test_size=0.3, random_state=42)"
      ]
    },
    {
      "cell_type": "code",
      "execution_count": 52,
      "metadata": {
        "id": "P0q7-MgwPbjW"
      },
      "outputs": [],
      "source": [
        "#write final df to csv file \n",
        "yield_df.to_csv('yield_df.csv')"
      ]
    },
    {
      "cell_type": "code",
      "execution_count": 53,
      "metadata": {
        "id": "9AuXdm-TPbjX"
      },
      "outputs": [],
      "source": [
        "from sklearn.model_selection import train_test_split\n",
        "train_data, test_data, train_labels, test_labels = train_test_split(features, label, test_size=0.3, random_state=42)"
      ]
    },
    {
      "cell_type": "markdown",
      "metadata": {
        "id": "Z_sbwgb2PbjX"
      },
      "source": [
        "# Section 4: Model Comparison & Selection \n",
        "For this project, we'll compare between the following models : \n",
        "\n",
        "- Gradient Boosting Regressor\n",
        "- Random Forest Regressor\n",
        "- SVM \n",
        "- Decision Tree Regressor\n"
      ]
    },
    {
      "cell_type": "code",
      "execution_count": 54,
      "metadata": {
        "id": "xRyDy_r0PbjX"
      },
      "outputs": [],
      "source": [
        "from sklearn.metrics import r2_score\n",
        "def compare_models(model):\n",
        "    model_name = model.__class__.__name__\n",
        "    fit=model.fit(train_data,train_labels)\n",
        "    y_pred=fit.predict(test_data)\n",
        "    r2=r2_score(test_labels,y_pred)\n",
        "    return([model_name,r2])"
      ]
    },
    {
      "cell_type": "code",
      "execution_count": 55,
      "metadata": {
        "id": "LA4W0vJyPbjX"
      },
      "outputs": [],
      "source": [
        "from sklearn.ensemble import RandomForestRegressor\n",
        "from sklearn.ensemble import GradientBoostingRegressor\n",
        "from sklearn import svm\n",
        "from sklearn.tree import DecisionTreeRegressor\n",
        "\n",
        "models = [\n",
        "    GradientBoostingRegressor(n_estimators=200, max_depth=3, random_state=0),\n",
        "    RandomForestRegressor(n_estimators=200, max_depth=3, random_state=0),\n",
        "    svm.SVR(),\n",
        "    DecisionTreeRegressor()\n",
        "]"
      ]
    },
    {
      "cell_type": "code",
      "execution_count": 56,
      "metadata": {},
      "outputs": [
        {
          "name": "stdout",
          "output_type": "stream",
          "text": [
            "['GradientBoostingRegressor', 0.8957918626438968]\n",
            "['RandomForestRegressor', 0.6907655921247855]\n",
            "['SVR', -0.1935660137136721]\n",
            "['DecisionTreeRegressor', 0.9589394826441846]\n"
          ]
        }
      ],
      "source": [
        "from sklearn.ensemble import RandomForestRegressor, GradientBoostingRegressor\n",
        "from sklearn import svm\n",
        "from sklearn.tree import DecisionTreeRegressor\n",
        "\n",
        "# 1. Handle NaN values BEFORE scaling\n",
        "# Convert features to numpy array if it's a DataFrame\n",
        "if hasattr(features, 'values'):\n",
        "    features = features.values\n",
        "\n",
        "# Find rows without NaN values\n",
        "non_nan_mask = ~np.isnan(features).any(axis=1)\n",
        "features_clean = features[non_nan_mask]\n",
        "label_clean = label[non_nan_mask]\n",
        "\n",
        "# 2. Scale the cleaned features\n",
        "scaler = MinMaxScaler()\n",
        "features_scaled = scaler.fit_transform(features_clean)\n",
        "\n",
        "# 3. Train-test split on CLEANED data\n",
        "train_data, test_data, train_labels, test_labels = train_test_split(\n",
        "    features_scaled, \n",
        "    label_clean, \n",
        "    test_size=0.3, \n",
        "    random_state=42\n",
        ")\n",
        "\n",
        "# 4. Model comparison function\n",
        "def compare_models(model):\n",
        "    model_name = model.__class__.__name__\n",
        "    model.fit(train_data, train_labels)\n",
        "    y_pred = model.predict(test_data)\n",
        "    r2 = r2_score(test_labels, y_pred)\n",
        "    return [model_name, r2]\n",
        "\n",
        "# 5. Initialize and compare models\n",
        "models = [\n",
        "    GradientBoostingRegressor(n_estimators=200, max_depth=3, random_state=0),\n",
        "    RandomForestRegressor(n_estimators=200, max_depth=3, random_state=0),\n",
        "    svm.SVR(),\n",
        "    DecisionTreeRegressor()\n",
        "]\n",
        "\n",
        "results = list(map(compare_models, models))\n",
        "print(*results, sep=\"\\n\")"
      ]
    },
    {
      "cell_type": "code",
      "execution_count": 57,
      "metadata": {
        "colab": {
          "base_uri": "https://localhost:8080/",
          "height": 336
        },
        "id": "Lt7GVcluPbjX",
        "outputId": "b15cddc9-e2ef-4cdd-82ca-ba6312feea0a"
      },
      "outputs": [
        {
          "data": {
            "image/png": "[encoded data removed]",
            "text/plain": [
              "<Figure size 1000x500 with 1 Axes>"
            ]
          },
          "metadata": {},
          "output_type": "display_data"
        }
      ],
      "source": [
        "fig = plt.figure(figsize = (10, 5))\n",
        "plt.bar(['GradientBoostingRegressor','RandomForestRegressor','DecisionTree'], [89.57918626438968,69.07655921247855,95.90081738278514], color ='maroon',width=0.4)\n",
        "plt.ylabel(\"Accuracy\")\n",
        "plt.title(\"Accuracy of different ML Algorithms\")\n",
        "plt.show()"
      ]
    },
    {
      "cell_type": "markdown",
      "metadata": {
        "id": "1-27v23pPbjX"
      },
      "source": [
        "The evaluation metric is set based on **R^2 (coefficient of determination)** regression score function, that will represents the proportion of the variance for items (crops) in the regression model. **R^2** score shows how well terms (data points) fit a curve or line.\n",
        "\n",
        "From the results above, **Decision Tree Regressor** has the highest R^2 score 0f **96%**, **GradientBoostingRegressor** comes second. "
      ]
    },
    {
      "cell_type": "code",
      "execution_count": 58,
      "metadata": {
        "id": "buV3vu5HPbjY"
      },
      "outputs": [],
      "source": [
        "#yield_df_onehot = yield_df_onehot.drop(['Year'], axis=1)"
      ]
    },
    {
      "cell_type": "code",
      "execution_count": 59,
      "metadata": {
        "colab": {
          "base_uri": "https://localhost:8080/",
          "height": 290
        },
        "id": "2hnA_YToPbjY",
        "outputId": "aa3437b1-a513-460a-84ff-b5c9036ca41d"
      },
      "outputs": [
        {
          "data": {
            "text/html": [
              "<div>\n",
              "<style scoped>\n",
              "    .dataframe tbody tr th:only-of-type {\n",
              "        vertical-align: middle;\n",
              "    }\n",
              "\n",
              "    .dataframe tbody tr th {\n",
              "        vertical-align: top;\n",
              "    }\n",
              "\n",
              "    .dataframe thead th {\n",
              "        text-align: right;\n",
              "    }\n",
              "</style>\n",
              "<table border=\"1\" class=\"dataframe\">\n",
              "  <thead>\n",
              "    <tr style=\"text-align: right;\">\n",
              "      <th></th>\n",
              "      <th>Year</th>\n",
              "      <th>hg/ha_yield</th>\n",
              "      <th>average_rain_fall_mm_per_year</th>\n",
              "      <th>pesticides_tonnes</th>\n",
              "      <th>avg_temp</th>\n",
              "      <th>Country_Albania</th>\n",
              "      <th>Country_Algeria</th>\n",
              "      <th>Country_Angola</th>\n",
              "      <th>Country_Argentina</th>\n",
              "      <th>Country_Armenia</th>\n",
              "      <th>...</th>\n",
              "      <th>Item_Cassava</th>\n",
              "      <th>Item_Maize</th>\n",
              "      <th>Item_Plantains and others</th>\n",
              "      <th>Item_Potatoes</th>\n",
              "      <th>Item_Rice, paddy</th>\n",
              "      <th>Item_Sorghum</th>\n",
              "      <th>Item_Soybeans</th>\n",
              "      <th>Item_Sweet potatoes</th>\n",
              "      <th>Item_Wheat</th>\n",
              "      <th>Item_Yams</th>\n",
              "    </tr>\n",
              "  </thead>\n",
              "  <tbody>\n",
              "    <tr>\n",
              "      <th>0</th>\n",
              "      <td>1990</td>\n",
              "      <td>36613</td>\n",
              "      <td>1485</td>\n",
              "      <td>121.0</td>\n",
              "      <td>16.37</td>\n",
              "      <td>True</td>\n",
              "      <td>False</td>\n",
              "      <td>False</td>\n",
              "      <td>False</td>\n",
              "      <td>False</td>\n",
              "      <td>...</td>\n",
              "      <td>False</td>\n",
              "      <td>True</td>\n",
              "      <td>False</td>\n",
              "      <td>False</td>\n",
              "      <td>False</td>\n",
              "      <td>False</td>\n",
              "      <td>False</td>\n",
              "      <td>False</td>\n",
              "      <td>False</td>\n",
              "      <td>False</td>\n",
              "    </tr>\n",
              "    <tr>\n",
              "      <th>1</th>\n",
              "      <td>1991</td>\n",
              "      <td>29068</td>\n",
              "      <td>1485</td>\n",
              "      <td>121.0</td>\n",
              "      <td>15.36</td>\n",
              "      <td>True</td>\n",
              "      <td>False</td>\n",
              "      <td>False</td>\n",
              "      <td>False</td>\n",
              "      <td>False</td>\n",
              "      <td>...</td>\n",
              "      <td>False</td>\n",
              "      <td>True</td>\n",
              "      <td>False</td>\n",
              "      <td>False</td>\n",
              "      <td>False</td>\n",
              "      <td>False</td>\n",
              "      <td>False</td>\n",
              "      <td>False</td>\n",
              "      <td>False</td>\n",
              "      <td>False</td>\n",
              "    </tr>\n",
              "    <tr>\n",
              "      <th>2</th>\n",
              "      <td>1992</td>\n",
              "      <td>24876</td>\n",
              "      <td>1485</td>\n",
              "      <td>121.0</td>\n",
              "      <td>16.06</td>\n",
              "      <td>True</td>\n",
              "      <td>False</td>\n",
              "      <td>False</td>\n",
              "      <td>False</td>\n",
              "      <td>False</td>\n",
              "      <td>...</td>\n",
              "      <td>False</td>\n",
              "      <td>True</td>\n",
              "      <td>False</td>\n",
              "      <td>False</td>\n",
              "      <td>False</td>\n",
              "      <td>False</td>\n",
              "      <td>False</td>\n",
              "      <td>False</td>\n",
              "      <td>False</td>\n",
              "      <td>False</td>\n",
              "    </tr>\n",
              "    <tr>\n",
              "      <th>3</th>\n",
              "      <td>1993</td>\n",
              "      <td>24185</td>\n",
              "      <td>1485</td>\n",
              "      <td>121.0</td>\n",
              "      <td>16.05</td>\n",
              "      <td>True</td>\n",
              "      <td>False</td>\n",
              "      <td>False</td>\n",
              "      <td>False</td>\n",
              "      <td>False</td>\n",
              "      <td>...</td>\n",
              "      <td>False</td>\n",
              "      <td>True</td>\n",
              "      <td>False</td>\n",
              "      <td>False</td>\n",
              "      <td>False</td>\n",
              "      <td>False</td>\n",
              "      <td>False</td>\n",
              "      <td>False</td>\n",
              "      <td>False</td>\n",
              "      <td>False</td>\n",
              "    </tr>\n",
              "    <tr>\n",
              "      <th>4</th>\n",
              "      <td>1994</td>\n",
              "      <td>25848</td>\n",
              "      <td>1485</td>\n",
              "      <td>201.0</td>\n",
              "      <td>16.96</td>\n",
              "      <td>True</td>\n",
              "      <td>False</td>\n",
              "      <td>False</td>\n",
              "      <td>False</td>\n",
              "      <td>False</td>\n",
              "      <td>...</td>\n",
              "      <td>False</td>\n",
              "      <td>True</td>\n",
              "      <td>False</td>\n",
              "      <td>False</td>\n",
              "      <td>False</td>\n",
              "      <td>False</td>\n",
              "      <td>False</td>\n",
              "      <td>False</td>\n",
              "      <td>False</td>\n",
              "      <td>False</td>\n",
              "    </tr>\n",
              "  </tbody>\n",
              "</table>\n",
              "<p>5 rows × 116 columns</p>\n",
              "</div>"
            ],
            "text/plain": [
              "   Year  hg/ha_yield average_rain_fall_mm_per_year  pesticides_tonnes  \\\n",
              "0  1990        36613                          1485              121.0   \n",
              "1  1991        29068                          1485              121.0   \n",
              "2  1992        24876                          1485              121.0   \n",
              "3  1993        24185                          1485              121.0   \n",
              "4  1994        25848                          1485              201.0   \n",
              "\n",
              "   avg_temp  Country_Albania  Country_Algeria  Country_Angola  \\\n",
              "0     16.37             True            False           False   \n",
              "1     15.36             True            False           False   \n",
              "2     16.06             True            False           False   \n",
              "3     16.05             True            False           False   \n",
              "4     16.96             True            False           False   \n",
              "\n",
              "   Country_Argentina  Country_Armenia  ...  Item_Cassava  Item_Maize  \\\n",
              "0              False            False  ...         False        True   \n",
              "1              False            False  ...         False        True   \n",
              "2              False            False  ...         False        True   \n",
              "3              False            False  ...         False        True   \n",
              "4              False            False  ...         False        True   \n",
              "\n",
              "   Item_Plantains and others  Item_Potatoes  Item_Rice, paddy  Item_Sorghum  \\\n",
              "0                      False          False             False         False   \n",
              "1                      False          False             False         False   \n",
              "2                      False          False             False         False   \n",
              "3                      False          False             False         False   \n",
              "4                      False          False             False         False   \n",
              "\n",
              "   Item_Soybeans  Item_Sweet potatoes  Item_Wheat  Item_Yams  \n",
              "0          False                False       False      False  \n",
              "1          False                False       False      False  \n",
              "2          False                False       False      False  \n",
              "3          False                False       False      False  \n",
              "4          False                False       False      False  \n",
              "\n",
              "[5 rows x 116 columns]"
            ]
          },
          "execution_count": 59,
          "metadata": {},
          "output_type": "execute_result"
        }
      ],
      "source": [
        "yield_df_onehot.head()"
      ]
    },
    {
      "cell_type": "code",
      "execution_count": 60,
      "metadata": {},
      "outputs": [
        {
          "name": "stdout",
          "output_type": "stream",
          "text": [
            "test_data shape: (8473, 114)\n",
            "Original columns: 116\n",
            "Columns without target: 115\n",
            "Column count mismatch detected!\n",
            "Model expects: 114\n",
            "Available features: 115\n",
            "Potential extra column(s): {'Country_Romania', 'Country_Saudi Arabia', 'Country_Cameroon', 'Item_Rice, paddy', 'Country_Haiti', 'Country_Poland', 'Country_Chile', 'Item_Sorghum', 'Item_Potatoes', 'Country_Tunisia', 'Item_Soybeans', 'Item_Wheat', 'Country_United Kingdom', 'Country_Zambia', 'Country_Guinea', 'Country_Slovenia', 'Country_Bahamas', 'Country_Burkina Faso', 'Country_South Africa', 'Country_Libya', 'Country_Madagascar', 'Country_Greece', 'Country_Suriname', 'Country_Switzerland', 'Country_Austria', 'Country_Norway', 'Country_Thailand', 'Country_Spain', 'Country_Belarus', 'Country_Jamaica', 'Country_Lebanon', 'Country_Lesotho', 'Country_Hungary', 'Country_Kenya', 'Country_Mali', 'Country_Ukraine', 'Country_Ecuador', 'Country_Honduras', 'Country_Rwanda', 'Item_Sweet potatoes', 'Country_Uruguay', 'Country_Zimbabwe', 'Country_Iraq', 'Country_Namibia', 'Country_Eritrea', 'Item_Yams', 'Country_New Zealand', 'Country_Sudan', 'Country_Nepal', 'Country_Ghana', 'Country_Belgium', 'Country_Lithuania', 'Country_Armenia', 'Country_Estonia', 'Country_Australia', 'Item_Plantains and others', 'Country_Uganda', 'Country_Burundi', 'Country_Senegal', 'Country_France', 'Country_Guyana', 'Country_Japan', 'Country_Bahrain', 'Country_Germany', 'Country_Tajikistan', 'Country_Albania', 'Country_Latvia', 'Country_Kazakhstan', 'Country_Niger', 'Country_Finland', 'Country_Turkey', 'Country_Mexico', 'Country_Malawi', 'Country_Sweden', 'Country_Portugal', 'Item_Cassava', 'Country_Angola', 'Country_Pakistan', 'Country_Croatia', 'Country_Morocco', 'Country_India', 'Country_Azerbaijan', 'Country_Argentina', 'Country_Indonesia', 'Country_Brazil', 'Country_Qatar', 'Country_El Salvador', 'Country_Mauritius', 'Country_Algeria', 'Country_Bangladesh', 'Country_Denmark', 'Country_Colombia', 'Country_Italy', 'Country_Netherlands', 'Country_Guatemala', 'Country_Nicaragua', 'Country_Central African Republic', 'Item_Maize', 'Country_Montenegro', 'Country_Bulgaria', 'Country_Ireland', 'Country_Botswana', 'Country_Mozambique', 'Country_Egypt', 'Country_Sri Lanka', 'Country_Peru', 'Country_Papua New Guinea', 'Country_Canada', 'Country_Dominican Republic', 'Country_Malaysia', 'Country_Mauritania'}\n",
            "Adjusting columns: Using first 114 feature columns\n",
            "Final DataFrame shape: (8473, 114)\n",
            "Columns assigned: 114\n"
          ]
        }
      ],
      "source": [
        "# 1. First, verify the exact column counts\n",
        "print(f\"test_data shape: {test_data.shape}\")  # Should show (8473, 114)\n",
        "print(f\"Original columns: {len(yield_df_onehot.columns)}\")  # Likely 115\n",
        "print(f\"Columns without target: {len(yield_df_onehot.columns) - 1}\")\n",
        "\n",
        "# 2. Get ALL feature columns (excluding target)\n",
        "feature_columns = [col for col in yield_df_onehot.columns if col != 'hg/ha_yield']\n",
        "\n",
        "# 3. Handle the mismatch (if any)\n",
        "if len(feature_columns) != test_data.shape[1]:\n",
        "    print(\"Column count mismatch detected!\")\n",
        "    print(\"Model expects:\", test_data.shape[1])\n",
        "    print(\"Available features:\", len(feature_columns))\n",
        "\n",
        "    extra_cols = set(feature_columns) - set(yield_df.columns)\n",
        "    print(\"Potential extra column(s):\", extra_cols)\n",
        "\n",
        "    print(\"Adjusting columns: Using first\", test_data.shape[1], \"feature columns\")\n",
        "    feature_columns = feature_columns[:test_data.shape[1]]\n",
        "\n",
        "# 4. Create the DataFrame\n",
        "test_df = pd.DataFrame(test_data, columns=feature_columns)\n",
        "\n",
        "# 5. Verify\n",
        "print(f\"Final DataFrame shape: {test_df.shape}\")\n",
        "print(f\"Columns assigned: {len(test_df.columns)}\")\n"
      ]
    },
    {
      "cell_type": "code",
      "execution_count": 61,
      "metadata": {
        "id": "2a7sHXzUPbjY"
      },
      "outputs": [],
      "source": [
        "cols = yield_df_onehot.loc[:, yield_df_onehot.columns != 'hg/ha_yield'].columns[:test_data.shape[1]]\n",
        "test_df = pd.DataFrame(test_data, columns=cols)\n",
        "\n",
        "# cntry=test_df[[col for col in test_df.columns if 'Country' in col]].stack()[test_df[[col for col in test_df.columns if 'Country' in col]].stack()>0]\n",
        "# cntrylist=list(pd.DataFrame(cntry).index.get_level_values(1))\n",
        "# countries=[i.split(\"_\")[1] for i in cntrylist]\n",
        "# itm=test_df[[col for col in test_df.columns if 'Item' in col]].stack()[test_df[[col for col in test_df.columns if 'Item' in col]].stack()>0]\n",
        "# itmlist=list(pd.DataFrame(itm).index.get_level_values(1))\n",
        "# items=[i.split(\"_\")[1] for i in itmlist]\n",
        "# Get one-hot item columns\n",
        "item_cols = [col for col in test_df.columns if 'Item_' in col]\n",
        "country_cols = [col for col in test_df.columns if 'Country_' in col]\n",
        "\n",
        "# Recover item names using idxmax (returns first max — assumes one-hot)\n",
        "item_names = test_df[item_cols].idxmax(axis=1).str.replace('Item_', '')\n",
        "country_names = test_df[country_cols].idxmax(axis=1).str.replace('Country_', '')\n",
        "\n",
        "# Assign back to test_df\n",
        "test_df['Item'] = item_names\n",
        "test_df['Country'] = country_names\n"
      ]
    },
    {
      "cell_type": "code",
      "execution_count": 62,
      "metadata": {
        "colab": {
          "base_uri": "https://localhost:8080/",
          "height": 290
        },
        "id": "A_0Z6Ar8PbjY",
        "outputId": "d315034b-f9f3-4703-84d7-b955be843832"
      },
      "outputs": [
        {
          "data": {
            "text/html": [
              "<div>\n",
              "<style scoped>\n",
              "    .dataframe tbody tr th:only-of-type {\n",
              "        vertical-align: middle;\n",
              "    }\n",
              "\n",
              "    .dataframe tbody tr th {\n",
              "        vertical-align: top;\n",
              "    }\n",
              "\n",
              "    .dataframe thead th {\n",
              "        text-align: right;\n",
              "    }\n",
              "</style>\n",
              "<table border=\"1\" class=\"dataframe\">\n",
              "  <thead>\n",
              "    <tr style=\"text-align: right;\">\n",
              "      <th></th>\n",
              "      <th>Year</th>\n",
              "      <th>average_rain_fall_mm_per_year</th>\n",
              "      <th>pesticides_tonnes</th>\n",
              "      <th>avg_temp</th>\n",
              "      <th>Country_Albania</th>\n",
              "      <th>Country_Algeria</th>\n",
              "      <th>Country_Angola</th>\n",
              "      <th>Country_Argentina</th>\n",
              "      <th>Country_Armenia</th>\n",
              "      <th>Country_Australia</th>\n",
              "      <th>...</th>\n",
              "      <th>Item_Maize</th>\n",
              "      <th>Item_Plantains and others</th>\n",
              "      <th>Item_Potatoes</th>\n",
              "      <th>Item_Rice, paddy</th>\n",
              "      <th>Item_Sorghum</th>\n",
              "      <th>Item_Soybeans</th>\n",
              "      <th>Item_Sweet potatoes</th>\n",
              "      <th>Item_Wheat</th>\n",
              "      <th>Item</th>\n",
              "      <th>Country</th>\n",
              "    </tr>\n",
              "  </thead>\n",
              "  <tbody>\n",
              "    <tr>\n",
              "      <th>0</th>\n",
              "      <td>0.183443</td>\n",
              "      <td>0.090370</td>\n",
              "      <td>0.535264</td>\n",
              "      <td>0.0</td>\n",
              "      <td>0.0</td>\n",
              "      <td>0.0</td>\n",
              "      <td>0.0</td>\n",
              "      <td>0.0</td>\n",
              "      <td>0.0</td>\n",
              "      <td>0.0</td>\n",
              "      <td>...</td>\n",
              "      <td>0.0</td>\n",
              "      <td>0.0</td>\n",
              "      <td>0.0</td>\n",
              "      <td>0.0</td>\n",
              "      <td>0.0</td>\n",
              "      <td>1.0</td>\n",
              "      <td>0.0</td>\n",
              "      <td>0.0</td>\n",
              "      <td>Soybeans</td>\n",
              "      <td>South Africa</td>\n",
              "    </tr>\n",
              "    <tr>\n",
              "      <th>1</th>\n",
              "      <td>0.458451</td>\n",
              "      <td>0.000135</td>\n",
              "      <td>0.631005</td>\n",
              "      <td>0.0</td>\n",
              "      <td>0.0</td>\n",
              "      <td>0.0</td>\n",
              "      <td>0.0</td>\n",
              "      <td>0.0</td>\n",
              "      <td>0.0</td>\n",
              "      <td>0.0</td>\n",
              "      <td>...</td>\n",
              "      <td>0.0</td>\n",
              "      <td>1.0</td>\n",
              "      <td>0.0</td>\n",
              "      <td>0.0</td>\n",
              "      <td>0.0</td>\n",
              "      <td>0.0</td>\n",
              "      <td>0.0</td>\n",
              "      <td>0.0</td>\n",
              "      <td>Plantains and others</td>\n",
              "      <td>Lithuania</td>\n",
              "    </tr>\n",
              "    <tr>\n",
              "      <th>2</th>\n",
              "      <td>0.183443</td>\n",
              "      <td>0.132330</td>\n",
              "      <td>0.552300</td>\n",
              "      <td>0.0</td>\n",
              "      <td>0.0</td>\n",
              "      <td>0.0</td>\n",
              "      <td>0.0</td>\n",
              "      <td>0.0</td>\n",
              "      <td>0.0</td>\n",
              "      <td>0.0</td>\n",
              "      <td>...</td>\n",
              "      <td>0.0</td>\n",
              "      <td>0.0</td>\n",
              "      <td>0.0</td>\n",
              "      <td>0.0</td>\n",
              "      <td>0.0</td>\n",
              "      <td>1.0</td>\n",
              "      <td>0.0</td>\n",
              "      <td>0.0</td>\n",
              "      <td>Soybeans</td>\n",
              "      <td>South Africa</td>\n",
              "    </tr>\n",
              "    <tr>\n",
              "      <th>3</th>\n",
              "      <td>1.000000</td>\n",
              "      <td>0.179695</td>\n",
              "      <td>0.867802</td>\n",
              "      <td>0.0</td>\n",
              "      <td>0.0</td>\n",
              "      <td>0.0</td>\n",
              "      <td>0.0</td>\n",
              "      <td>0.0</td>\n",
              "      <td>0.0</td>\n",
              "      <td>0.0</td>\n",
              "      <td>...</td>\n",
              "      <td>0.0</td>\n",
              "      <td>0.0</td>\n",
              "      <td>0.0</td>\n",
              "      <td>0.0</td>\n",
              "      <td>1.0</td>\n",
              "      <td>0.0</td>\n",
              "      <td>0.0</td>\n",
              "      <td>0.0</td>\n",
              "      <td>Sorghum</td>\n",
              "      <td>Chile</td>\n",
              "    </tr>\n",
              "    <tr>\n",
              "      <th>4</th>\n",
              "      <td>0.458451</td>\n",
              "      <td>0.000305</td>\n",
              "      <td>0.629983</td>\n",
              "      <td>0.0</td>\n",
              "      <td>0.0</td>\n",
              "      <td>0.0</td>\n",
              "      <td>0.0</td>\n",
              "      <td>0.0</td>\n",
              "      <td>0.0</td>\n",
              "      <td>0.0</td>\n",
              "      <td>...</td>\n",
              "      <td>0.0</td>\n",
              "      <td>0.0</td>\n",
              "      <td>1.0</td>\n",
              "      <td>0.0</td>\n",
              "      <td>0.0</td>\n",
              "      <td>0.0</td>\n",
              "      <td>0.0</td>\n",
              "      <td>0.0</td>\n",
              "      <td>Potatoes</td>\n",
              "      <td>Lithuania</td>\n",
              "    </tr>\n",
              "  </tbody>\n",
              "</table>\n",
              "<p>5 rows × 116 columns</p>\n",
              "</div>"
            ],
            "text/plain": [
              "       Year  average_rain_fall_mm_per_year  pesticides_tonnes  avg_temp  \\\n",
              "0  0.183443                       0.090370           0.535264       0.0   \n",
              "1  0.458451                       0.000135           0.631005       0.0   \n",
              "2  0.183443                       0.132330           0.552300       0.0   \n",
              "3  1.000000                       0.179695           0.867802       0.0   \n",
              "4  0.458451                       0.000305           0.629983       0.0   \n",
              "\n",
              "   Country_Albania  Country_Algeria  Country_Angola  Country_Argentina  \\\n",
              "0              0.0              0.0             0.0                0.0   \n",
              "1              0.0              0.0             0.0                0.0   \n",
              "2              0.0              0.0             0.0                0.0   \n",
              "3              0.0              0.0             0.0                0.0   \n",
              "4              0.0              0.0             0.0                0.0   \n",
              "\n",
              "   Country_Armenia  Country_Australia  ...  Item_Maize  \\\n",
              "0              0.0                0.0  ...         0.0   \n",
              "1              0.0                0.0  ...         0.0   \n",
              "2              0.0                0.0  ...         0.0   \n",
              "3              0.0                0.0  ...         0.0   \n",
              "4              0.0                0.0  ...         0.0   \n",
              "\n",
              "   Item_Plantains and others  Item_Potatoes  Item_Rice, paddy  Item_Sorghum  \\\n",
              "0                        0.0            0.0               0.0           0.0   \n",
              "1                        1.0            0.0               0.0           0.0   \n",
              "2                        0.0            0.0               0.0           0.0   \n",
              "3                        0.0            0.0               0.0           1.0   \n",
              "4                        0.0            1.0               0.0           0.0   \n",
              "\n",
              "   Item_Soybeans  Item_Sweet potatoes  Item_Wheat                  Item  \\\n",
              "0            1.0                  0.0         0.0              Soybeans   \n",
              "1            0.0                  0.0         0.0  Plantains and others   \n",
              "2            1.0                  0.0         0.0              Soybeans   \n",
              "3            0.0                  0.0         0.0               Sorghum   \n",
              "4            0.0                  0.0         0.0              Potatoes   \n",
              "\n",
              "        Country  \n",
              "0  South Africa  \n",
              "1     Lithuania  \n",
              "2  South Africa  \n",
              "3         Chile  \n",
              "4     Lithuania  \n",
              "\n",
              "[5 rows x 116 columns]"
            ]
          },
          "execution_count": 62,
          "metadata": {},
          "output_type": "execute_result"
        }
      ],
      "source": [
        "test_df.head()"
      ]
    },
    {
      "cell_type": "code",
      "execution_count": 63,
      "metadata": {
        "colab": {
          "base_uri": "https://localhost:8080/",
          "height": 206
        },
        "id": "WwiSeuG5PbjY",
        "outputId": "7da8c949-2557-4f17-be02-7cac33364f67"
      },
      "outputs": [
        {
          "data": {
            "text/html": [
              "<div>\n",
              "<style scoped>\n",
              "    .dataframe tbody tr th:only-of-type {\n",
              "        vertical-align: middle;\n",
              "    }\n",
              "\n",
              "    .dataframe tbody tr th {\n",
              "        vertical-align: top;\n",
              "    }\n",
              "\n",
              "    .dataframe thead th {\n",
              "        text-align: right;\n",
              "    }\n",
              "</style>\n",
              "<table border=\"1\" class=\"dataframe\">\n",
              "  <thead>\n",
              "    <tr style=\"text-align: right;\">\n",
              "      <th></th>\n",
              "      <th>Year</th>\n",
              "      <th>average_rain_fall_mm_per_year</th>\n",
              "      <th>pesticides_tonnes</th>\n",
              "      <th>avg_temp</th>\n",
              "    </tr>\n",
              "  </thead>\n",
              "  <tbody>\n",
              "    <tr>\n",
              "      <th>0</th>\n",
              "      <td>0.183443</td>\n",
              "      <td>0.090370</td>\n",
              "      <td>0.535264</td>\n",
              "      <td>0.0</td>\n",
              "    </tr>\n",
              "    <tr>\n",
              "      <th>1</th>\n",
              "      <td>0.458451</td>\n",
              "      <td>0.000135</td>\n",
              "      <td>0.631005</td>\n",
              "      <td>0.0</td>\n",
              "    </tr>\n",
              "    <tr>\n",
              "      <th>2</th>\n",
              "      <td>0.183443</td>\n",
              "      <td>0.132330</td>\n",
              "      <td>0.552300</td>\n",
              "      <td>0.0</td>\n",
              "    </tr>\n",
              "    <tr>\n",
              "      <th>3</th>\n",
              "      <td>1.000000</td>\n",
              "      <td>0.179695</td>\n",
              "      <td>0.867802</td>\n",
              "      <td>0.0</td>\n",
              "    </tr>\n",
              "    <tr>\n",
              "      <th>4</th>\n",
              "      <td>0.458451</td>\n",
              "      <td>0.000305</td>\n",
              "      <td>0.629983</td>\n",
              "      <td>0.0</td>\n",
              "    </tr>\n",
              "  </tbody>\n",
              "</table>\n",
              "</div>"
            ],
            "text/plain": [
              "       Year  average_rain_fall_mm_per_year  pesticides_tonnes  avg_temp\n",
              "0  0.183443                       0.090370           0.535264       0.0\n",
              "1  0.458451                       0.000135           0.631005       0.0\n",
              "2  0.183443                       0.132330           0.552300       0.0\n",
              "3  1.000000                       0.179695           0.867802       0.0\n",
              "4  0.458451                       0.000305           0.629983       0.0"
            ]
          },
          "execution_count": 63,
          "metadata": {},
          "output_type": "execute_result"
        }
      ],
      "source": [
        "test_df.drop([col for col in test_df.columns if 'Item' in col],axis=1,inplace=True)\n",
        "test_df.drop([col for col in test_df.columns if 'Country' in col],axis=1,inplace=True)\n",
        "test_df.head()"
      ]
    },
    {
      "cell_type": "code",
      "execution_count": 64,
      "metadata": {
        "colab": {
          "base_uri": "https://localhost:8080/",
          "height": 206
        },
        "id": "n5kwvIiMPbjZ",
        "outputId": "e7bfd615-f820-4840-96a1-d3c621a10b13",
        "scrolled": true
      },
      "outputs": [
        {
          "data": {
            "text/html": [
              "<div>\n",
              "<style scoped>\n",
              "    .dataframe tbody tr th:only-of-type {\n",
              "        vertical-align: middle;\n",
              "    }\n",
              "\n",
              "    .dataframe tbody tr th {\n",
              "        vertical-align: top;\n",
              "    }\n",
              "\n",
              "    .dataframe thead th {\n",
              "        text-align: right;\n",
              "    }\n",
              "</style>\n",
              "<table border=\"1\" class=\"dataframe\">\n",
              "  <thead>\n",
              "    <tr style=\"text-align: right;\">\n",
              "      <th></th>\n",
              "      <th>Year</th>\n",
              "      <th>average_rain_fall_mm_per_year</th>\n",
              "      <th>pesticides_tonnes</th>\n",
              "      <th>avg_temp</th>\n",
              "    </tr>\n",
              "  </thead>\n",
              "  <tbody>\n",
              "    <tr>\n",
              "      <th>0</th>\n",
              "      <td>0.183443</td>\n",
              "      <td>0.090370</td>\n",
              "      <td>0.535264</td>\n",
              "      <td>0.0</td>\n",
              "    </tr>\n",
              "    <tr>\n",
              "      <th>1</th>\n",
              "      <td>0.458451</td>\n",
              "      <td>0.000135</td>\n",
              "      <td>0.631005</td>\n",
              "      <td>0.0</td>\n",
              "    </tr>\n",
              "    <tr>\n",
              "      <th>2</th>\n",
              "      <td>0.183443</td>\n",
              "      <td>0.132330</td>\n",
              "      <td>0.552300</td>\n",
              "      <td>0.0</td>\n",
              "    </tr>\n",
              "    <tr>\n",
              "      <th>3</th>\n",
              "      <td>1.000000</td>\n",
              "      <td>0.179695</td>\n",
              "      <td>0.867802</td>\n",
              "      <td>0.0</td>\n",
              "    </tr>\n",
              "    <tr>\n",
              "      <th>4</th>\n",
              "      <td>0.458451</td>\n",
              "      <td>0.000305</td>\n",
              "      <td>0.629983</td>\n",
              "      <td>0.0</td>\n",
              "    </tr>\n",
              "  </tbody>\n",
              "</table>\n",
              "</div>"
            ],
            "text/plain": [
              "       Year  average_rain_fall_mm_per_year  pesticides_tonnes  avg_temp\n",
              "0  0.183443                       0.090370           0.535264       0.0\n",
              "1  0.458451                       0.000135           0.631005       0.0\n",
              "2  0.183443                       0.132330           0.552300       0.0\n",
              "3  1.000000                       0.179695           0.867802       0.0\n",
              "4  0.458451                       0.000305           0.629983       0.0"
            ]
          },
          "execution_count": 64,
          "metadata": {},
          "output_type": "execute_result"
        }
      ],
      "source": [
        "# test_df['Country'] = countries[:8473]\n",
        "# Stack just the Item columns\n",
        "item_stacked = test_df[[col for col in test_df.columns if 'Item' in col]].stack()\n",
        "\n",
        "# Reset to DataFrame\n",
        "item_df = item_stacked.reset_index()\n",
        "item_df.columns = ['Row', 'Item_col', 'Item']\n",
        "\n",
        "# item_df now has 7853 rows — consistent\n",
        "\n",
        "\n",
        "# test_df['Country']=countries\n",
        "# test_df['Item']=items\n",
        "test_df.head()"
      ]
    },
    {
      "cell_type": "code",
      "execution_count": 65,
      "metadata": {},
      "outputs": [
        {
          "name": "stdout",
          "output_type": "stream",
          "text": [
            "[]\n",
            "No column containing 'Item' found.\n"
          ]
        }
      ],
      "source": [
        "# Safely grab the one column that contains the 'Item'\n",
        "item_cols = [col for col in test_df.columns if 'Item' in col]\n",
        "\n",
        "# Check how many 'Item' columns you have\n",
        "print(item_cols)\n",
        "\n",
        "# If exactly one column, assign it directly\n",
        "if len(item_cols) == 1:\n",
        "    test_df['Item'] = test_df[item_cols[0]]\n",
        "elif len(item_cols) > 1:\n",
        "    # If multiple, pick the first non-null per row\n",
        "    test_df['Item'] = test_df[item_cols].bfill(axis=1).iloc[:, 0]\n",
        "else:\n",
        "    print(\"No column containing 'Item' found.\")\n",
        "\n"
      ]
    },
    {
      "cell_type": "code",
      "execution_count": 66,
      "metadata": {},
      "outputs": [
        {
          "name": "stdout",
          "output_type": "stream",
          "text": [
            "Index(['Area', 'Item', 'Year', 'hg/ha_yield', 'average_rain_fall_mm_per_year',\n",
            "       'pesticides_tonnes', 'avg_temp'],\n",
            "      dtype='object')\n"
          ]
        }
      ],
      "source": [
        "print(yield_df.columns)\n"
      ]
    },
    {
      "cell_type": "code",
      "execution_count": 67,
      "metadata": {},
      "outputs": [],
      "source": [
        "item_train, item_test = train_test_split(\n",
        "    yield_df['Item'], test_size=0.2, random_state=42\n",
        ")\n",
        "\n",
        "\n",
        "test_df['Item'] = item_test.reset_index(drop=True)\n",
        "\n",
        "\n"
      ]
    },
    {
      "cell_type": "code",
      "execution_count": 68,
      "metadata": {
        "colab": {
          "base_uri": "https://localhost:8080/"
        },
        "id": "f_le8SRsPbjZ",
        "outputId": "5cc57bb0-5d67-47d4-b422-4ea386902569",
        "scrolled": true
      },
      "outputs": [
        {
          "name": "stderr",
          "output_type": "stream",
          "text": [
            "C:\\Users\\asus\\AppData\\Local\\Temp\\ipykernel_23772\\4160730319.py:6: DeprecationWarning: DataFrameGroupBy.apply operated on the grouping columns. This behavior is deprecated, and in a future version of pandas the grouping columns will be excluded from the operation. Either pass `include_groups=False` to exclude the groupings or explicitly select the grouping columns after groupby to silence this warning.\n",
            "  test_group.apply(lambda x: r2_score(x.yield_actual,x.yield_predicted))\n"
          ]
        },
        {
          "data": {
            "text/plain": [
              "Item\n",
              "Cassava                 0.973571\n",
              "Maize                   0.961722\n",
              "Plantains and others    0.905775\n",
              "Potatoes                0.955186\n",
              "Rice, paddy             0.960486\n",
              "Sorghum                 0.949129\n",
              "Soybeans                0.963708\n",
              "Sweet potatoes          0.939164\n",
              "Wheat                   0.961682\n",
              "Yams                    0.982385\n",
              "dtype: float64"
            ]
          },
          "execution_count": 68,
          "metadata": {},
          "output_type": "execute_result"
        }
      ],
      "source": [
        "clf=DecisionTreeRegressor()\n",
        "model=clf.fit(train_data,train_labels)\n",
        "test_df[\"yield_predicted\"]= model.predict(test_data)\n",
        "test_df[\"yield_actual\"]=pd.DataFrame(test_labels)[\"hg/ha_yield\"].tolist()\n",
        "test_group=test_df.groupby(\"Item\")\n",
        "test_group.apply(lambda x: r2_score(x.yield_actual,x.yield_predicted))"
      ]
    },
    {
      "cell_type": "code",
      "execution_count": 69,
      "metadata": {
        "colab": {
          "base_uri": "https://localhost:8080/",
          "height": 295
        },
        "id": "acK2dNaHPbjZ",
        "outputId": "b03de7c9-47d6-4362-f556-1a3ab131b18b"
      },
      "outputs": [
        {
          "data": {
            "image/png": "[encoded data removed]",
            "text/plain": [
              "<Figure size 640x480 with 1 Axes>"
            ]
          },
          "metadata": {},
          "output_type": "display_data"
        }
      ],
      "source": [
        "fig, ax = plt.subplots() \n",
        "ax.scatter(test_df[\"yield_actual\"], test_df[\"yield_predicted\"],edgecolors=(0, 0, 0))\n",
        "ax.set_xlabel('Actual')\n",
        "ax.set_ylabel('Predicted')\n",
        "ax.set_title(\"Actual vs Predicted\")\n",
        "plt.show()"
      ]
    },
    {
      "cell_type": "markdown",
      "metadata": {
        "id": "OKDRQ3okPbjZ"
      },
      "source": [
        "The figure above shows the goodness of the fit with the predictions visualized as a line. It can be seen that R Square score is excellent. This means that we have found a good fitting model to predict the crops yield value for a certain country.  "
      ]
    },
    {
      "cell_type": "code",
      "execution_count": 70,
      "metadata": {
        "id": "hcxmbB9uPbjZ",
        "scrolled": true
      },
      "outputs": [
        {
          "name": "stderr",
          "output_type": "stream",
          "text": [
            "C:\\Users\\asus\\AppData\\Local\\Temp\\ipykernel_23772\\2407580481.py:4: DeprecationWarning: DataFrameGroupBy.apply operated on the grouping columns. This behavior is deprecated, and in a future version of pandas the grouping columns will be excluded from the operation. Either pass `include_groups=False` to exclude the groupings or explicitly select the grouping columns after groupby to silence this warning.\n",
            "  test_group.apply(lambda x: adjusted_r_squared(x.yield_actual,x.yield_predicted,x))\n"
          ]
        },
        {
          "data": {
            "text/plain": [
              "Item\n",
              "Cassava                 0.973051\n",
              "Maize                   0.961353\n",
              "Plantains and others    0.897669\n",
              "Potatoes                0.954770\n",
              "Rice, paddy             0.960049\n",
              "Sorghum                 0.948422\n",
              "Soybeans                0.963209\n",
              "Sweet potatoes          0.938271\n",
              "Wheat                   0.961292\n",
              "Yams                    0.981476\n",
              "dtype: float64"
            ]
          },
          "execution_count": 70,
          "metadata": {},
          "output_type": "execute_result"
        }
      ],
      "source": [
        "def adjusted_r_squared(y,yhat,x):\n",
        "    score=1- (((1-(r2_score(y,yhat)))*(len(y)-1))/(len(y)-x.shape[1]-2))\n",
        "    return score\n",
        "test_group.apply(lambda x: adjusted_r_squared(x.yield_actual,x.yield_predicted,x))"
      ]
    },
    {
      "cell_type": "markdown",
      "metadata": {
        "id": "lfBM2CZDPbjZ"
      },
      "source": [
        "# Section 5: Model Results & Conclusions\n",
        "\n"
      ]
    },
    {
      "cell_type": "code",
      "execution_count": 71,
      "metadata": {},
      "outputs": [
        {
          "name": "stdout",
          "output_type": "stream",
          "text": [
            "114\n",
            "115\n"
          ]
        }
      ],
      "source": [
        "print(len(model.feature_importances_))\n",
        "print(len(yield_df_onehot.columns[yield_df_onehot.columns != \"hg/ha_yield\"]))\n"
      ]
    },
    {
      "cell_type": "code",
      "execution_count": 72,
      "metadata": {
        "colab": {
          "base_uri": "https://localhost:8080/",
          "height": 970
        },
        "id": "6Ov9cQxJPbja",
        "outputId": "200039ca-fc36-425e-9711-4d0c491c7c36",
        "scrolled": false
      },
      "outputs": [
        {
          "name": "stdout",
          "output_type": "stream",
          "text": [
            "Feature importance shape: 114\n",
            "Feature names shape: 114\n"
          ]
        }
      ],
      "source": [
        "# Recreate feature_columns cleanly\n",
        "all_columns = [col for col in yield_df_onehot.columns if col != \"hg/ha_yield\"]\n",
        "\n",
        "# Match feature count to model\n",
        "expected_feature_count = len(model.feature_importances_)\n",
        "feature_columns = all_columns[:expected_feature_count]  # Truncate to match model\n",
        "\n",
        "# Force lengths into variables\n",
        "importances = model.feature_importances_\n",
        "features = feature_columns\n",
        "\n",
        "print(\"Feature importance shape:\", len(importances))\n",
        "print(\"Feature names shape:\", len(features))\n",
        "\n",
        "# See which one is wrong\n",
        "if len(importances) != len(features):\n",
        "    raise ValueError(f\"Mismatch! importances: {len(importances)}, features: {len(features)}\")\n",
        "\n",
        "\n",
        "\n",
        "\n",
        "\n",
        "\n"
      ]
    },
    {
      "cell_type": "code",
      "execution_count": 73,
      "metadata": {},
      "outputs": [
        {
          "name": "stdout",
          "output_type": "stream",
          "text": [
            "['Item']\n"
          ]
        }
      ],
      "source": [
        "# Safely grab the one column that contains the 'Item'\n",
        "item_cols = [col for col in test_df.columns if 'Item' in col]\n",
        "\n",
        "# Check how many 'Item' columns you have\n",
        "print(item_cols)\n",
        "\n",
        "# If exactly one column, assign it directly\n",
        "if len(item_cols) == 1:\n",
        "    test_df['Item'] = test_df[item_cols[0]]\n",
        "elif len(item_cols) > 1:\n",
        "    # If multiple, pick the first non-null per row\n",
        "    test_df['Item'] = test_df[item_cols].bfill(axis=1).iloc[:, 0]\n",
        "else:\n",
        "    print(\"No column containing 'Item' found.\")\n",
        "\n"
      ]
    },
    {
      "cell_type": "markdown",
      "metadata": {
        "id": "fuZpwkPSPbja"
      },
      "source": [
        "Getting only top 7 of features importance in the model:"
      ]
    },
    {
      "cell_type": "code",
      "execution_count": 74,
      "metadata": {},
      "outputs": [],
      "source": [
        "# Correct way to create `varimp` first\n",
        "varimp = {\n",
        "    \"names\": feature_columns,  # list of 114 feature names\n",
        "    \"imp\": model.feature_importances_  # array of 114 importance scores\n",
        "}\n"
      ]
    },
    {
      "cell_type": "code",
      "execution_count": 75,
      "metadata": {
        "colab": {
          "base_uri": "https://localhost:8080/",
          "height": 511
        },
        "id": "aK-mr6TXPbja",
        "outputId": "4d92ea59-1a6f-4fa9-f706-c629850390ab",
        "scrolled": false
      },
      "outputs": [
        {
          "name": "stderr",
          "output_type": "stream",
          "text": [
            "C:\\Users\\asus\\AppData\\Local\\Temp\\ipykernel_23772\\3744945406.py:9: FutureWarning: \n",
            "\n",
            "Passing `palette` without assigning `hue` is deprecated and will be removed in v0.14.0. Assign the `y` variable to `hue` and set `legend=False` for the same effect.\n",
            "\n",
            "  sns.barplot(x=\"imp\",y=\"names\",palette=\"vlag\",data=df,orient=\"h\",ax=ax);\n"
          ]
        },
        {
          "data": {
            "image/png": "[encoded data removed]",
            "text/plain": [
              "<Figure size 1670x827 with 1 Axes>"
            ]
          },
          "metadata": {},
          "output_type": "display_data"
        }
      ],
      "source": [
        "#7 most important factors that affect crops \n",
        "a4_dims = (16.7, 8.27)\n",
        "\n",
        "fig, ax = plt.subplots(figsize=a4_dims)\n",
        "df=pd.DataFrame.from_dict(varimp)\n",
        "df.sort_values(ascending=False,by=[\"imp\"],inplace=True)\n",
        "df=df.dropna()\n",
        "df=df.nlargest(8, 'imp')\n",
        "sns.barplot(x=\"imp\",y=\"names\",palette=\"vlag\",data=df,orient=\"h\",ax=ax);"
      ]
    },
    {
      "cell_type": "markdown",
      "metadata": {
        "id": "MrBNHkM7Pbja"
      },
      "source": [
        "The crop being potatoes has the highest importance in the decision making for the model, where it's the highest crops in the dataset. Cassava too, then as expected we see the effect of pesticides, where its the third most important feature, and then if the crop is sweet potatoes, we see some of the highest crops in features importance in dataset. \n",
        "\n",
        "If the crop is grown in India, makes sense since India has the largest crops sum in the dataset. Then comes rainfall and temprature."
      ]
    },
    {
      "cell_type": "code",
      "execution_count": 76,
      "metadata": {
        "colab": {
          "base_uri": "https://localhost:8080/",
          "height": 511
        },
        "id": "C6c-5GhtPbjb",
        "outputId": "9feac91b-39ec-4b2f-e16a-b4b7cbeec924",
        "scrolled": false
      },
      "outputs": [
        {
          "name": "stderr",
          "output_type": "stream",
          "text": [
            "C:\\Users\\asus\\AppData\\Local\\Temp\\ipykernel_23772\\4285038496.py:4: FutureWarning: \n",
            "\n",
            "Passing `palette` without assigning `hue` is deprecated and will be removed in v0.14.0. Assign the `x` variable to `hue` and set `legend=False` for the same effect.\n",
            "\n",
            "  sns.boxplot(x=\"Item\",y=\"hg/ha_yield\",palette=\"vlag\",data=yield_df,ax=ax)\n"
          ]
        },
        {
          "data": {
            "text/plain": [
              "<Axes: xlabel='Item', ylabel='hg/ha_yield'>"
            ]
          },
          "execution_count": 76,
          "metadata": {},
          "output_type": "execute_result"
        },
        {
          "data": {
            "image/png": "[encoded data removed]",
            "text/plain": [
              "<Figure size 1670x827 with 1 Axes>"
            ]
          },
          "metadata": {},
          "output_type": "display_data"
        }
      ],
      "source": [
        "#Boxplot that shows yield for each item \n",
        "a4_dims = (16.7, 8.27)\n",
        "fig, ax = plt.subplots(figsize=a4_dims)\n",
        "sns.boxplot(x=\"Item\",y=\"hg/ha_yield\",palette=\"vlag\",data=yield_df,ax=ax)"
      ]
    }
  ],
  "metadata": {
    "colab": {
      "collapsed_sections": [
        "qncIQjWiPbjF",
        "W4HNg9iFPbjL",
        "M-SsQcPEPbjQ",
        "4tlK_DQ4PbjR",
        "MygR_E7DPbjS",
        "T-MuzzDGPbjU",
        "MIRCZxyjPbjV",
        "qtznQ0A8PbjW",
        "kWUQGX28PbjW",
        "Z_sbwgb2PbjX",
        "lfBM2CZDPbjZ"
      ],
      "name": "AI ML Project.ipynb",
      "provenance": []
    },
    "kernelspec": {
      "display_name": "Python 3",
      "language": "python",
      "name": "python3"
    },
    "language_info": {
      "codemirror_mode": {
        "name": "ipython",
        "version": 3
      },
      "file_extension": ".py",
      "mimetype": "text/x-python",
      "name": "python",
      "nbconvert_exporter": "python",
      "pygments_lexer": "ipython3",
      "version": "3.13.1"
    }
  },
  "nbformat": 4,
  "nbformat_minor": 0
}
